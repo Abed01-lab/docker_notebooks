{
 "cells": [
  {
   "cell_type": "markdown",
   "metadata": {},
   "source": [
    "## Videos\n",
    "#### Docker setup\n",
    "- [How to use docker. First 4 min is general docker, then specifically about this repo](https://youtu.be/9U_0NnlgvKg) **(11:36 min.)**\n",
    "\n",
    "#### Machine learning\n",
    "- [01 Artificial Intelligence and Machine Learning](https://www.youtube.com/watch?v=mM3sG4EpgAM&list=PLp907J1pTE7SvfvrKOYXTKNfp0z_4RuzC&index=2&ab_channel=ThomasHartmann)\n",
    "- [02 Feature space and OneHot encoding](https://www.youtube.com/watch?v=BVY4hzQFZ84)\n",
    "- "
   ]
  }
 ],
 "metadata": {
  "kernelspec": {
   "display_name": "Python 3",
   "language": "python",
   "name": "python3"
  },
  "language_info": {
   "codemirror_mode": {
    "name": "ipython",
    "version": 3
   },
   "file_extension": ".py",
   "mimetype": "text/x-python",
   "name": "python",
   "nbconvert_exporter": "python",
   "pygments_lexer": "ipython3",
   "version": "3.7.6"
  }
 },
 "nbformat": 4,
 "nbformat_minor": 4
}
