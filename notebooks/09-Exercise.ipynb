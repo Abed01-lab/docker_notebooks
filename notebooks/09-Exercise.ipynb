{
 "cells": [
  {
   "cell_type": "markdown",
   "metadata": {},
   "source": [
    "# week 9 Exercise Feature space\n",
    "\n",
    "## Ex 1\n",
    "`Data = 'https://think.cs.vt.edu/corgis/datasets/csv/cars/cars.csv'`\n",
    "### Download the data\n",
    "\n",
    "- Programatically download the data from the above link.\n",
    "- Import the data into a Pandas dataframe.\n",
    "- Show the head of the Pandas dataframe.\n",
    "\n",
    "### Linear regression\n",
    "\n",
    "- Perform linear regression on the downloaded dataset, where `y=Highway mpg` and `x=Horsepower`.\n",
    "- What is the coefficient (slope) of your model? What does this number mean?\n",
    "- According to your model, what is `y` when `x=2000`.\n",
    "- Show the regression line on a scatterplot with the other datapoints.\n",
    "\n",
    "### Classification\n",
    "\n",
    "- Using `sklearn` create a classifier that can predict the make of a car, based on provided features. The following features should be included:\n",
    "  - `City mpg`\n",
    "  - `Highway mpg`\n",
    "  - `Height`\n",
    "  - `Width`\n",
    "  - `Length`\n",
    "  - `Horsepower`\n",
    "  - `Year`\n",
    "- Show the decisiontree of your model.\n",
    "- Use your model to predict the make of a car.\n",
    "\n",
    "## Review questions \n",
    "\n",
    "1. Did the student programatically download and import the data?\n",
    "2. Did the student correctly display the regression line in a graph`?\n",
    "3. Did the student find the coefficient of the line, and reflect on its meaning?\n",
    "4. Did the student correctly provide their classification model with imported data?\n",
    "\n",
    "## Ex 2"
   ]
  },
  {
   "cell_type": "code",
   "execution_count": 3,
   "metadata": {
    "collapsed": true
   },
   "outputs": [
    {
     "data": {
      "text/plain": [
       "Index(['Dimensions.Height', 'Dimensions.Length', 'Dimensions.Width',\n",
       "       'Engine Information.Driveline', 'Engine Information.Engine Type',\n",
       "       'Engine Information.Hybrid',\n",
       "       'Engine Information.Number of Forward Gears',\n",
       "       'Engine Information.Transmission', 'Fuel Information.City mpg',\n",
       "       'Fuel Information.Fuel Type', 'Fuel Information.Highway mpg',\n",
       "       'Identification.Classification', 'Identification.ID',\n",
       "       'Identification.Make', 'Identification.Model Year',\n",
       "       'Identification.Year',\n",
       "       'Engine Information.Engine Statistics.Horsepower',\n",
       "       'Engine Information.Engine Statistics.Torque'],\n",
       "      dtype='object')"
      ]
     },
     "execution_count": 3,
     "metadata": {},
     "output_type": "execute_result"
    }
   ],
   "source": [
    "url = 'https://think.cs.vt.edu/corgis/datasets/csv/cars/cars.csv'\n",
    "import pandas as pd\n",
    "data = pd.read_csv(url)"
   ]
  },
  {
   "cell_type": "code",
   "execution_count": 5,
   "metadata": {},
   "outputs": [
    {
     "name": "stdout",
     "output_type": "stream",
     "text": [
      "Index(['Dimensions.Height', 'Dimensions.Length', 'Dimensions.Width',\n",
      "       'Engine Information.Driveline', 'Engine Information.Engine Type',\n",
      "       'Engine Information.Hybrid',\n",
      "       'Engine Information.Number of Forward Gears',\n",
      "       'Engine Information.Transmission', 'Fuel Information.City mpg',\n",
      "       'Fuel Information.Fuel Type', 'Fuel Information.Highway mpg',\n",
      "       'Identification.Classification', 'Identification.ID',\n",
      "       'Identification.Make', 'Identification.Model Year',\n",
      "       'Identification.Year',\n",
      "       'Engine Information.Engine Statistics.Horsepower',\n",
      "       'Engine Information.Engine Statistics.Torque'],\n",
      "      dtype='object')\n",
      "   Dimensions.Height  Dimensions.Length  Dimensions.Width  \\\n",
      "0                140                143               202   \n",
      "\n",
      "  Engine Information.Driveline        Engine Information.Engine Type  \\\n",
      "0              All-wheel drive  Audi 3.2L 6 cylinder 250hp 236ft-lbs   \n",
      "\n",
      "   Engine Information.Hybrid  Engine Information.Number of Forward Gears  \\\n",
      "0                       True                                           6   \n",
      "\n",
      "  Engine Information.Transmission  Fuel Information.City mpg  \\\n",
      "0  6 Speed Automatic Select Shift                         18   \n",
      "\n",
      "  Fuel Information.Fuel Type  Fuel Information.Highway mpg  \\\n",
      "0                   Gasoline                            25   \n",
      "\n",
      "  Identification.Classification Identification.ID Identification.Make  \\\n",
      "0        Automatic transmission  2009 Audi A3 3.2                Audi   \n",
      "\n",
      "  Identification.Model Year  Identification.Year  \\\n",
      "0              2009 Audi A3                 2009   \n",
      "\n",
      "   Engine Information.Engine Statistics.Horsepower  \\\n",
      "0                                              250   \n",
      "\n",
      "   Engine Information.Engine Statistics.Torque  \n",
      "0                                          236  \n"
     ]
    }
   ],
   "source": [
    "print(data.columns)\n",
    "print(data[:1])"
   ]
  }
 ],
 "metadata": {
  "kernelspec": {
   "display_name": "Python 3",
   "language": "python",
   "name": "python3"
  },
  "language_info": {
   "codemirror_mode": {
    "name": "ipython",
    "version": 3
   },
   "file_extension": ".py",
   "mimetype": "text/x-python",
   "name": "python",
   "nbconvert_exporter": "python",
   "pygments_lexer": "ipython3",
   "version": "3.7.6"
  }
 },
 "nbformat": 4,
 "nbformat_minor": 4
}
