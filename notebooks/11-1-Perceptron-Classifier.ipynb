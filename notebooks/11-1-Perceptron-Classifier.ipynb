{
 "cells": [
  {
   "cell_type": "markdown",
   "metadata": {},
   "source": [
    "## A perceptron is a classifier\n",
    "It gets an input and outputs a binary value (on or off, yes or no)\n",
    "\n",
    "A perceptron is more specifically a **linear classification** algorithm, because it uses a line to determine an input’s class. If we draw that line on a plot, we call that line a **decision boundary**.  \n",
    "\n",
    "![](images/linear_separability.png)"
   ]
  },
  {
   "cell_type": "code",
   "execution_count": 1,
   "metadata": {
    "slideshow": {
     "slide_type": "subslide"
    }
   },
   "outputs": [
    {
     "name": "stdout",
     "output_type": "stream",
     "text": [
      "Populating the interactive namespace from numpy and matplotlib\n"
     ]
    }
   ],
   "source": [
    "%pylab inline\n",
    "# euivallent to all these commands:\n",
    "#1. import numpy\n",
    "#2. import matplotlib\n",
    "#3. from matplotlib import pylab, mlab, pyplot\n",
    "#4. np = numpy\n",
    "#5. plt = pyplot\n",
    "#6. from IPython.core.pylabtools import figsize, getfigs\n",
    "#7. from pylab import *\n",
    "#8. from numpy import *"
   ]
  },
  {
   "cell_type": "markdown",
   "metadata": {
    "slideshow": {
     "slide_type": "slide"
    }
   },
   "source": [
    "Our dataset is again the iris flower dataset, see https://en.wikipedia.org/wiki/Iris_flower_data_set. Just that you know what these iris flowers are...\n",
    "\n",
    "\n",
    "**Iris Setosa**\n",
    "\n",
    "<img src=\"https://upload.wikimedia.org/wikipedia/commons/thumb/5/56/Kosaciec_szczecinkowaty_Iris_setosa.jpg/440px-Kosaciec_szczecinkowaty_Iris_setosa.jpg\" alt=\"drawing\" width=\"200\"/>"
   ]
  },
  {
   "cell_type": "markdown",
   "metadata": {
    "slideshow": {
     "slide_type": "subslide"
    }
   },
   "source": [
    "\n",
    "\n",
    "**Iris Versicolor**\n",
    "<img src=\"https://upload.wikimedia.org/wikipedia/commons/thumb/4/41/Iris_versicolor_3.jpg/440px-Iris_versicolor_3.jpg\" alt=\"drawing\" width=\"200\"/>"
   ]
  },
  {
   "cell_type": "markdown",
   "metadata": {
    "slideshow": {
     "slide_type": "subslide"
    }
   },
   "source": [
    "\n",
    "\n",
    "**Iris Virginica**\n",
    "<img src=\"https://upload.wikimedia.org/wikipedia/commons/thumb/9/9f/Iris_virginica.jpg/440px-Iris_virginica.jpg\" alt=\"drawing\" width=\"200\"/>"
   ]
  },
  {
   "cell_type": "markdown",
   "metadata": {
    "slideshow": {
     "slide_type": "subslide"
    }
   },
   "source": [
    "<img src=\"https://sebastianraschka.com/images/blog/2014/linear-discriminant-analysis/iris_petal_sepal.png\" alt=\"drawing\" width=\"200\"/>"
   ]
  },
  {
   "cell_type": "markdown",
   "metadata": {
    "slideshow": {
     "slide_type": "subslide"
    }
   },
   "source": [
    "#### Supervised learning\n",
    "The Iris dataset is a fully labeled dataset with 3 different labels.  \n",
    "However, we simplify this dataset a bit and say we are only interested in **2 classifications** *iris setosa* and other iris flowers. "
   ]
  },
  {
   "cell_type": "code",
   "execution_count": 2,
   "metadata": {
    "scrolled": true,
    "slideshow": {
     "slide_type": "subslide"
    }
   },
   "outputs": [
    {
     "name": "stdout",
     "output_type": "stream",
     "text": [
      "[[5.1 3.5 1.4 0.2]]\n",
      "150 150\n",
      "['setosa' 'versicolor' 'virginica']\n",
      "[0 0 0 0 0 0 0 0 0 0 0 0 0 0 0 0 0 0 0 0 0 0 0 0 0 0 0 0 0 0 0 0 0 0 0 0 0\n",
      " 0 0 0 0 0 0 0 0 0 0 0 0 0 1 1 1 1 1 1 1 1 1 1 1 1 1 1 1 1 1 1 1 1 1 1 1 1\n",
      " 1 1 1 1 1 1 1 1 1 1 1 1 1 1 1 1 1 1 1 1 1 1 1 1 1 1 2 2 2 2 2 2 2 2 2 2 2\n",
      " 2 2 2 2 2 2 2 2 2 2 2 2 2 2 2 2 2 2 2 2 2 2 2 2 2 2 2 2 2 2 2 2 2 2 2 2 2\n",
      " 2 2]\n",
      "<class 'sklearn.utils.Bunch'>\n"
     ]
    }
   ],
   "source": [
    "# Lets take a look at the content of the Iris dataset\n",
    "import matplotlib\n",
    "import matplotlib.pyplot as plt\n",
    "from sklearn import datasets\n",
    "\n",
    "\n",
    "iris = datasets.load_iris()\n",
    "print(iris.data[0:1,:]) # show first line of matrix\n",
    "print(len(iris.data),len(iris.target))\n",
    "print(iris.target_names)\n",
    "print(iris.target)\n",
    "print(type(iris))"
   ]
  },
  {
   "cell_type": "code",
   "execution_count": 3,
   "metadata": {},
   "outputs": [
    {
     "data": {
      "image/png": "[encoded data removed]",
      "text/plain": [
       "<Figure size 432x288 with 1 Axes>"
      ]
     },
     "metadata": {
      "needs_background": "light"
     },
     "output_type": "display_data"
    }
   ],
   "source": [
    "# Lets plot each of the 3 iris types with a different color based on sepal length x width\n",
    "colors = 'bgr'\n",
    "for idx,name in enumerate(iris.target_names):\n",
    "\n",
    "    sepal_length = iris.data[iris.target == idx][:,0] # get sepal length for each flower in the names group\n",
    "    sepal_width = iris.data[iris.target == idx][:,1]\n",
    "\n",
    "    plt.scatter(sepal_length, sepal_width, c=colors[idx], label=name)\n"
   ]
  },
  {
   "cell_type": "code",
   "execution_count": 4,
   "metadata": {
    "slideshow": {
     "slide_type": "subslide"
    }
   },
   "outputs": [
    {
     "data": {
      "text/plain": [
       "['setosa', 'versicolor', 'virginica']"
      ]
     },
     "execution_count": 4,
     "metadata": {},
     "output_type": "execute_result"
    }
   ],
   "source": [
    "list(iris.target_names)"
   ]
  },
  {
   "cell_type": "code",
   "execution_count": 5,
   "metadata": {
    "scrolled": false,
    "slideshow": {
     "slide_type": "subslide"
    }
   },
   "outputs": [
    {
     "data": {
      "image/png": "[encoded data removed]",
      "text/plain": [
       "<Figure size 432x288 with 1 Axes>"
      ]
     },
     "metadata": {
      "needs_background": "light"
     },
     "output_type": "display_data"
    }
   ],
   "source": [
    "# Divide iris into setosa (target == 0) and not setosa\n",
    "sepal_length = iris.data[iris.target == 0][:,0]\n",
    "sepal_width = iris.data[iris.target == 0][:,1]\n",
    "plt.scatter(sepal_length, sepal_width, c='b', label='setosa')\n",
    "\n",
    "sepal_length = iris.data[iris.target != 0][:,0]\n",
    "sepal_width = iris.data[iris.target != 0][:,1]\n",
    "plt.scatter(sepal_length, sepal_width, c='g', label='other')\n",
    "\n",
    "plt.title('Iris Sepal Characteristics')\n",
    "plt.xlabel('sepal length')\n",
    "plt.ylabel('sepal width')\n",
    "\n",
    "plt.legend()\n",
    "plt.show()"
   ]
  },
  {
   "cell_type": "markdown",
   "metadata": {
    "slideshow": {
     "slide_type": "subslide"
    }
   },
   "source": [
    "# Intro to Perceptrons\n",
    "\n",
    "Let's say we want to write an artificial intelligence, i.e., a program, that learns out of the given data about sepal length and width, if a given iris flower is an iris setosa or if it is not.\n",
    "\n",
    "We can do this with a single artificial brain cell, a perceptron. The original paper for Perceptron Learning Algorithm (PLA) is from the 50s.\n",
    "\n",
    "*\"The Perceptron: A Probabilistic Model For Information Storage And Organization in the Brain\"* - F. Rosenblatt (December 1958)\n",
    "http://www.ling.upenn.edu/courses/Fall_2007/cogs501/Rosenblatt1958.pdf"
   ]
  },
  {
   "cell_type": "markdown",
   "metadata": {
    "slideshow": {
     "slide_type": "subslide"
    }
   },
   "source": [
    "## A perceptron?\n",
    "\n",
    "A *perceptron* is a neuron with a very simple activation function: a heaviside step function returning binary output.\n",
    "\n",
    "> hypothetical nervous system, or machine,...\n",
    "\n",
    "see the above paper. Or, according to the Oxford Dictionary, *perceptron* is a \n",
    "> a computer model or computerized machine devised to represent or simulate the ability of the brain to recognize and discriminate.\n",
    "\n",
    "\n",
    "![](https://appliedgo.net/media/perceptron/neuron.png)"
   ]
  },
  {
   "cell_type": "markdown",
   "metadata": {
    "slideshow": {
     "slide_type": "subslide"
    }
   },
   "source": [
    "\n",
    "\n",
    "To see what is going on in a perceptron, see the animation at https://appliedgo.net/perceptron/ in the section *Inside an artificial neuron* about.\n",
    "\n",
    "That is, we can implement an activation function and a perceptron in Python as in the following."
   ]
  },
  {
   "cell_type": "code",
   "execution_count": 6,
   "metadata": {
    "slideshow": {
     "slide_type": "subslide"
    }
   },
   "outputs": [
    {
     "name": "stdout",
     "output_type": "stream",
     "text": [
      "[-10.          -9.97997998  -9.95995996  -9.93993994  -9.91991992]\n"
     ]
    },
    {
     "data": {
      "text/plain": [
       "(-10.0, 9.0, -2.0, 2.0)"
      ]
     },
     "execution_count": 6,
     "metadata": {},
     "output_type": "execute_result"
    },
    {
     "data": {
      "image/png": "[encoded data removed]",
      "text/plain": [
       "<Figure size 432x288 with 1 Axes>"
      ]
     },
     "metadata": {
      "needs_background": "light"
     },
     "output_type": "display_data"
    }
   ],
   "source": [
    "import numpy as np\n",
    "\n",
    "\n",
    "def activation_function(x):\n",
    "    \"\"\"\n",
    "    Step function to respond with y = 1 or -1\n",
    "    Parameter:\n",
    "    x: An x (numeric) value that will have a corresponding y value of 1 or -1\n",
    "    \"\"\"\n",
    "    if x < 0:\n",
    "        return -1\n",
    "    else:\n",
    "        return 1\n",
    "    \n",
    "rnge = np.linspace(-10.0, 10.0, num=1000)\n",
    "print(rnge[0:5])\n",
    "values = [activation_function(i) for i in rnge]\n",
    "plt.plot(rnge, values)\n",
    "plt.axis([-10, 9, -2, 2])"
   ]
  },
  {
   "cell_type": "code",
   "execution_count": 22,
   "metadata": {
    "slideshow": {
     "slide_type": "subslide"
    }
   },
   "outputs": [
    {
     "data": {
      "text/plain": [
       "1"
      ]
     },
     "execution_count": 22,
     "metadata": {},
     "output_type": "execute_result"
    }
   ],
   "source": [
    "import numpy as np\n",
    "\n",
    "def perceptron(inp, weights):\n",
    "    \"\"\"\n",
    "    Given a list of feature (x) values and a list of weights, \n",
    "    calculates the dot product of the 2 lists and returns 1 or -1 (fire or don't)\n",
    "    Parameters:\n",
    "    inp: vector of input predictors\n",
    "    weights: vector of weights to be ajusted for precise prediction of output.\n",
    "    \"\"\"\n",
    "    # This is the same as the dot product np.dot(i, w)\n",
    "    dot_product = sum([i * w for i, w in zip(inp, weights)])\n",
    "    output = activation_function(dot_product)\n",
    "    return output\n",
    "\n",
    "perceptron([1, 2, 3, 4, 5], [1, 1, 2, 1, 1])"
   ]
  },
  {
   "cell_type": "markdown",
   "metadata": {
    "slideshow": {
     "slide_type": "subslide"
    }
   },
   "source": [
    "# Perceptrons for Classification\n",
    "\n",
    "Using our perceptron, we want to have a program which can *predict* given a pair of sepal length and sepal width if our flower is an iris setosa or not. That is, we want to have a program that says `setosa` (or `1`) for example for `[5.6, 4.8]` or for `[3.4, 4.1]` and it says `other` (or `-1`) for example for `[5.8, 1.9]` or for `[6.2, 2.4]`.   \n",
    "Note that all those examples are \"new\" flowers, i.e., we did not observe those value combinations on earlier flowers. Additionally, our program should return the correct class labels for flowers, which we already know from the iris flower dataset."
   ]
  },
  {
   "cell_type": "code",
   "execution_count": 8,
   "metadata": {
    "slideshow": {
     "slide_type": "subslide"
    }
   },
   "outputs": [],
   "source": [
    "def predict(inp_vec, weights):\n",
    "    \"\"\"\n",
    "    Parameters:\n",
    "    inp_vec:\n",
    "        An input vector consisting of sepal length and width\n",
    "    weights:\n",
    "        A vector of same length as inp_vec, containing a weight for each input\n",
    "    return:\n",
    "        A class label, either 1 for 'setosa' or -1 for 'other'\n",
    "    \"\"\"\n",
    "    class_label_prediction = perceptron(inp_vec, weights)\n",
    "    return class_label_prediction\n",
    "\n",
    "\n",
    "weights =  [-28.96837525,  48.03329437]\n"
   ]
  },
  {
   "cell_type": "code",
   "execution_count": 9,
   "metadata": {
    "slideshow": {
     "slide_type": "subslide"
    }
   },
   "outputs": [],
   "source": [
    "# new flowers\n",
    "assert predict([5.6, 4.8], weights) == 1\n",
    "assert predict([3.4, 4.1], weights) == 1\n",
    "assert predict([5.8, 1.9], weights) == -1\n",
    "assert predict([6.2, 2.4], weights) == -1\n",
    "\n",
    "# flowers we already know\n",
    "assert predict([5.4,  3.9], weights) == 1\n",
    "assert predict([5.7,  4.4], weights) == 1"
   ]
  },
  {
   "cell_type": "code",
   "execution_count": 10,
   "metadata": {},
   "outputs": [
    {
     "data": {
      "text/plain": [
       "True"
      ]
     },
     "execution_count": 10,
     "metadata": {},
     "output_type": "execute_result"
    }
   ],
   "source": [
    "predict([5.6, 4.8], weights) == 1"
   ]
  },
  {
   "cell_type": "markdown",
   "metadata": {
    "slideshow": {
     "slide_type": "subslide"
    }
   },
   "source": [
    "## The weights\n",
    "\n",
    "Given the above program, we could say that we are done, right? The program obviously satisfies the requirements described above. However, the question is where do the weights (`weights =  [-28.96837525, 48.03329437]`) come from? Here, they just magically appeared, but where did they come from?\n",
    "\n",
    "Actually, they were automatically learned by the program using the ***Perceptron Learning Algorithm (PLA)***, which we are going to implement in the following.\n",
    "\n",
    "To do so, we need a trainings dataset. We will use the one in which we specified which iris flowers are of type setosa or of another type."
   ]
  },
  {
   "cell_type": "code",
   "execution_count": 11,
   "metadata": {
    "slideshow": {
     "slide_type": "subslide"
    }
   },
   "outputs": [
    {
     "name": "stdout",
     "output_type": "stream",
     "text": [
      "class_labels: [0 0 0 0 0 0 0 0 0 0 1 1 1 1 1 1 1 1 1 1]\n",
      "iris.data: [[5.  3.5 1.3 0.3]\n",
      " [4.5 2.3 1.3 0.3]\n",
      " [4.4 3.2 1.3 0.2]\n",
      " [5.  3.5 1.6 0.6]\n",
      " [5.1 3.8 1.9 0.4]\n",
      " [4.8 3.  1.4 0.3]\n",
      " [5.1 3.8 1.6 0.2]\n",
      " [4.6 3.2 1.4 0.2]\n",
      " [5.3 3.7 1.5 0.2]\n",
      " [5.  3.3 1.4 0.2]\n",
      " [7.  3.2 4.7 1.4]\n",
      " [6.4 3.2 4.5 1.5]\n",
      " [6.9 3.1 4.9 1.5]\n",
      " [5.5 2.3 4.  1.3]\n",
      " [6.5 2.8 4.6 1.5]\n",
      " [5.7 2.8 4.5 1.3]\n",
      " [6.3 3.3 4.7 1.6]\n",
      " [4.9 2.4 3.3 1. ]\n",
      " [6.6 2.9 4.6 1.3]\n",
      " [5.2 2.7 3.9 1.4]]\n",
      "Trainings data: \n",
      " [(array([5.1, 3.5]), 1), (array([4.9, 3. ]), 1), (array([4.7, 3.2]), 1), (array([4.6, 3.1]), 1), (array([5. , 3.6]), 1), (array([5.4, 3.9]), 1), (array([4.6, 3.4]), 1), (array([5. , 3.4]), 1), (array([4.4, 2.9]), 1), (array([4.9, 3.1]), 1)]\n"
     ]
    }
   ],
   "source": [
    "# iris.target and iris.data zipped together and inserted as training data\n",
    "class_labels = np.copy(iris.target); print('class_labels:',class_labels[40:60])\n",
    "print('iris.data:',iris.data[40:60]) # each item contains 4 values\n",
    "class_labels[class_labels != 0] = -1\n",
    "class_labels[class_labels == 0] = 1\n",
    "#class_labels[class_labels == -1] = 0\n",
    "\n",
    "trainings_data = [(d[:2], l) for d, l in zip(iris.data, class_labels)] # get only first 2 values from data\n",
    "print('Trainings data: \\n',trainings_data[:10])"
   ]
  },
  {
   "cell_type": "code",
   "execution_count": 12,
   "metadata": {
    "slideshow": {
     "slide_type": "subslide"
    }
   },
   "outputs": [],
   "source": [
    "from itertools import cycle\n",
    "\n",
    "\n",
    "def plot_data(data, w_line=None):\n",
    "    \"\"\"\n",
    "    show data in 2d petal length vs width and target being 1 or -1 (indicating if flower is iris setosa or not.)\n",
    "    Parameters:\n",
    "    data: array of type tuple(array[petal_height, petal_width], target) target is either 1 or -1\n",
    "    w_line: a visual line to seperate the 2 clusters. If none is provided it will not show\n",
    "    \"\"\"\n",
    "    # print(data[:10])\n",
    "    data_points, class_labels = list(zip(*data))\n",
    "    data_points = np.array(data_points)\n",
    "    class_labels = np.array(class_labels)\n",
    "\n",
    "    colors = cycle('bgrcmy')\n",
    "    for l, col in zip(np.unique(class_labels), colors):\n",
    "        d =  data_points[class_labels == l]\n",
    "        x = d[:,0]\n",
    "        y = d[:,1]\n",
    "        plt.scatter(d[:,0], d[:,1], c=col, label=l)\n",
    "    \n",
    "    if w_line:                  # only plot a division line if one exists\n",
    "        l = np.linspace(0, 8.5) # 50 evenly spaced numbers for the x axis\n",
    "        m, b = w_line           # m = slope, b = intercept\n",
    "        plt.plot(l, m * l + b, 'y-', lw=2) # lw is line width\n",
    "\n",
    "    plt.axis([0, 8.5, 0, 5])\n",
    "    plt.title('Iris Characteristics')\n",
    "    plt.xlabel('length')\n",
    "    plt.ylabel('width')\n",
    "    plt.legend()\n"
   ]
  },
  {
   "cell_type": "code",
   "execution_count": 13,
   "metadata": {
    "scrolled": true,
    "slideshow": {
     "slide_type": "subslide"
    }
   },
   "outputs": [
    {
     "data": {
      "image/png": "[encoded data removed]",
      "text/plain": [
       "<Figure size 432x288 with 1 Axes>"
      ]
     },
     "metadata": {
      "needs_background": "light"
     },
     "output_type": "display_data"
    }
   ],
   "source": [
    "plot_data(trainings_data)"
   ]
  },
  {
   "cell_type": "markdown",
   "metadata": {},
   "source": [
    "## Perceptron Learning Algorithm (PLA)\n",
    "\n",
    "Using Stochastic gradient descent. [Further reading here](https://machinelearningmastery.com/implement-perceptron-algorithm-scratch-python)\n",
    "\n",
    "In machine learning, we can use a technique that evaluates and updates the weights every iteration called stochastic gradient descent to minimize the error of a model on our training data.\n",
    "\n",
    "The way this optimization algorithm works is that each training instance is shown to the model one at a time. The model makes a prediction for a training instance, the error is calculated and the model is updated in order to reduce the error for the next prediction.\n",
    "\n",
    "Stochastic gradient descent requires two parameters:\n",
    "1. Learning Rate: Used to limit the amount each weight is corrected each time it is updated.\n",
    "2. Epochs: The number of times to run through the training data while updating the weight"
   ]
  },
  {
   "cell_type": "code",
   "execution_count": 14,
   "metadata": {
    "slideshow": {
     "slide_type": "subslide"
    }
   },
   "outputs": [
    {
     "name": "stdout",
     "output_type": "stream",
     "text": [
      "[-29.44622632  49.74072437]\n"
     ]
    }
   ],
   "source": [
    "import numpy as np\n",
    "import pdb\n",
    "\n",
    "def pla(training_data, no_iterations=10000, eta=0.5):\n",
    "    \"\"\"\n",
    "    Find the proper weights to use in the perceptron based on data and target\n",
    "    Parameters:\n",
    "    training_data: list of vectors (features), as predictors zipped with a target value\n",
    "    no_iterations: number of times to adjust the weights to get them as close as possible to the optimal number\n",
    "    eta: the learning rate (prevent learning to go pendulum from one extreme error to the opposite)\n",
    "    \"\"\"\n",
    "    \n",
    "    dim = len(training_data[0][0]) # len = 2 (petal width and height)\n",
    "    weights =  np.random.random(dim) # error and weights (for x and y) start out as random numbers\n",
    "    \n",
    "    # initial_error\n",
    "    error = np.random.random()\n",
    "    weight_history = [np.copy(weights)]\n",
    "\n",
    "    for i in range(no_iterations):\n",
    "        #pdb.set_trace()\n",
    "        #breakpoint()\n",
    "        inp_vec, expected_label = training_data[i % len(training_data)] # get the next feature set and label (start over after reaching end)\n",
    "        perceptron_output = perceptron(inp_vec, weights) # perceptron output id a decimal between 0 and 1\n",
    "        error = expected_label - perceptron_output       # error \n",
    "        weights += eta * error * inp_vec # accumulate the weights\n",
    "        weight_history.append(np.copy(weights))\n",
    "        \n",
    "    return weights, weight_history \n",
    "        \n",
    "\n",
    "learned_weights, weight_history = pla(trainings_data)\n",
    "# print(weight_history)\n",
    "print(learned_weights)"
   ]
  },
  {
   "cell_type": "code",
   "execution_count": 15,
   "metadata": {
    "slideshow": {
     "slide_type": "subslide"
    }
   },
   "outputs": [
    {
     "data": {
      "text/plain": [
       "[array([0.85377368, 0.54072437]),\n",
       " array([0.85377368, 0.54072437]),\n",
       " array([0.85377368, 0.54072437]),\n",
       " array([0.85377368, 0.54072437]),\n",
       " array([0.85377368, 0.54072437]),\n",
       " array([0.85377368, 0.54072437]),\n",
       " array([0.85377368, 0.54072437]),\n",
       " array([0.85377368, 0.54072437]),\n",
       " array([0.85377368, 0.54072437]),\n",
       " array([0.85377368, 0.54072437]),\n",
       " array([0.85377368, 0.54072437]),\n",
       " array([0.85377368, 0.54072437]),\n",
       " array([0.85377368, 0.54072437]),\n",
       " array([0.85377368, 0.54072437]),\n",
       " array([0.85377368, 0.54072437]),\n",
       " array([0.85377368, 0.54072437]),\n",
       " array([0.85377368, 0.54072437]),\n",
       " array([0.85377368, 0.54072437]),\n",
       " array([0.85377368, 0.54072437]),\n",
       " array([0.85377368, 0.54072437]),\n",
       " array([0.85377368, 0.54072437]),\n",
       " array([0.85377368, 0.54072437]),\n",
       " array([0.85377368, 0.54072437]),\n",
       " array([0.85377368, 0.54072437]),\n",
       " array([0.85377368, 0.54072437]),\n",
       " array([0.85377368, 0.54072437]),\n",
       " array([0.85377368, 0.54072437]),\n",
       " array([0.85377368, 0.54072437]),\n",
       " array([0.85377368, 0.54072437]),\n",
       " array([0.85377368, 0.54072437]),\n",
       " array([0.85377368, 0.54072437]),\n",
       " array([0.85377368, 0.54072437]),\n",
       " array([0.85377368, 0.54072437]),\n",
       " array([0.85377368, 0.54072437]),\n",
       " array([0.85377368, 0.54072437]),\n",
       " array([0.85377368, 0.54072437]),\n",
       " array([0.85377368, 0.54072437]),\n",
       " array([0.85377368, 0.54072437]),\n",
       " array([0.85377368, 0.54072437]),\n",
       " array([0.85377368, 0.54072437]),\n",
       " array([0.85377368, 0.54072437]),\n",
       " array([0.85377368, 0.54072437]),\n",
       " array([0.85377368, 0.54072437]),\n",
       " array([0.85377368, 0.54072437]),\n",
       " array([0.85377368, 0.54072437]),\n",
       " array([0.85377368, 0.54072437]),\n",
       " array([0.85377368, 0.54072437]),\n",
       " array([0.85377368, 0.54072437]),\n",
       " array([0.85377368, 0.54072437]),\n",
       " array([0.85377368, 0.54072437]),\n",
       " array([0.85377368, 0.54072437]),\n",
       " array([-6.14622632, -2.65927563]),\n",
       " array([-6.14622632, -2.65927563]),\n",
       " array([-6.14622632, -2.65927563]),\n",
       " array([-6.14622632, -2.65927563]),\n",
       " array([-6.14622632, -2.65927563]),\n",
       " array([-6.14622632, -2.65927563]),\n",
       " array([-6.14622632, -2.65927563]),\n",
       " array([-6.14622632, -2.65927563]),\n",
       " array([-6.14622632, -2.65927563]),\n",
       " array([-6.14622632, -2.65927563]),\n",
       " array([-6.14622632, -2.65927563]),\n",
       " array([-6.14622632, -2.65927563]),\n",
       " array([-6.14622632, -2.65927563]),\n",
       " array([-6.14622632, -2.65927563]),\n",
       " array([-6.14622632, -2.65927563]),\n",
       " array([-6.14622632, -2.65927563]),\n",
       " array([-6.14622632, -2.65927563]),\n",
       " array([-6.14622632, -2.65927563]),\n",
       " array([-6.14622632, -2.65927563]),\n",
       " array([-6.14622632, -2.65927563]),\n",
       " array([-6.14622632, -2.65927563]),\n",
       " array([-6.14622632, -2.65927563]),\n",
       " array([-6.14622632, -2.65927563]),\n",
       " array([-6.14622632, -2.65927563]),\n",
       " array([-6.14622632, -2.65927563]),\n",
       " array([-6.14622632, -2.65927563]),\n",
       " array([-6.14622632, -2.65927563]),\n",
       " array([-6.14622632, -2.65927563]),\n",
       " array([-6.14622632, -2.65927563]),\n",
       " array([-6.14622632, -2.65927563]),\n",
       " array([-6.14622632, -2.65927563]),\n",
       " array([-6.14622632, -2.65927563]),\n",
       " array([-6.14622632, -2.65927563]),\n",
       " array([-6.14622632, -2.65927563]),\n",
       " array([-6.14622632, -2.65927563]),\n",
       " array([-6.14622632, -2.65927563]),\n",
       " array([-6.14622632, -2.65927563]),\n",
       " array([-6.14622632, -2.65927563]),\n",
       " array([-6.14622632, -2.65927563]),\n",
       " array([-6.14622632, -2.65927563]),\n",
       " array([-6.14622632, -2.65927563]),\n",
       " array([-6.14622632, -2.65927563]),\n",
       " array([-6.14622632, -2.65927563]),\n",
       " array([-6.14622632, -2.65927563]),\n",
       " array([-6.14622632, -2.65927563]),\n",
       " array([-6.14622632, -2.65927563]),\n",
       " array([-6.14622632, -2.65927563]),\n",
       " array([-6.14622632, -2.65927563]),\n",
       " array([-6.14622632, -2.65927563]),\n",
       " array([-6.14622632, -2.65927563]),\n",
       " array([-6.14622632, -2.65927563]),\n",
       " array([-6.14622632, -2.65927563]),\n",
       " array([-6.14622632, -2.65927563]),\n",
       " array([-6.14622632, -2.65927563]),\n",
       " array([-6.14622632, -2.65927563]),\n",
       " array([-6.14622632, -2.65927563]),\n",
       " array([-6.14622632, -2.65927563]),\n",
       " array([-6.14622632, -2.65927563]),\n",
       " array([-6.14622632, -2.65927563]),\n",
       " array([-6.14622632, -2.65927563]),\n",
       " array([-6.14622632, -2.65927563]),\n",
       " array([-6.14622632, -2.65927563]),\n",
       " array([-6.14622632, -2.65927563]),\n",
       " array([-6.14622632, -2.65927563]),\n",
       " array([-6.14622632, -2.65927563]),\n",
       " array([-6.14622632, -2.65927563]),\n",
       " array([-6.14622632, -2.65927563]),\n",
       " array([-6.14622632, -2.65927563]),\n",
       " array([-6.14622632, -2.65927563]),\n",
       " array([-6.14622632, -2.65927563]),\n",
       " array([-6.14622632, -2.65927563]),\n",
       " array([-6.14622632, -2.65927563]),\n",
       " array([-6.14622632, -2.65927563]),\n",
       " array([-6.14622632, -2.65927563]),\n",
       " array([-6.14622632, -2.65927563]),\n",
       " array([-6.14622632, -2.65927563]),\n",
       " array([-6.14622632, -2.65927563]),\n",
       " array([-6.14622632, -2.65927563]),\n",
       " array([-6.14622632, -2.65927563]),\n",
       " array([-6.14622632, -2.65927563]),\n",
       " array([-6.14622632, -2.65927563]),\n",
       " array([-6.14622632, -2.65927563]),\n",
       " array([-6.14622632, -2.65927563]),\n",
       " array([-6.14622632, -2.65927563]),\n",
       " array([-6.14622632, -2.65927563]),\n",
       " array([-6.14622632, -2.65927563]),\n",
       " array([-6.14622632, -2.65927563]),\n",
       " array([-6.14622632, -2.65927563]),\n",
       " array([-6.14622632, -2.65927563]),\n",
       " array([-6.14622632, -2.65927563]),\n",
       " array([-6.14622632, -2.65927563]),\n",
       " array([-6.14622632, -2.65927563]),\n",
       " array([-6.14622632, -2.65927563]),\n",
       " array([-6.14622632, -2.65927563]),\n",
       " array([-6.14622632, -2.65927563]),\n",
       " array([-6.14622632, -2.65927563]),\n",
       " array([-6.14622632, -2.65927563]),\n",
       " array([-6.14622632, -2.65927563]),\n",
       " array([-6.14622632, -2.65927563]),\n",
       " array([-6.14622632, -2.65927563]),\n",
       " array([-1.04622632,  0.84072437]),\n",
       " array([3.85377368, 3.84072437]),\n",
       " array([3.85377368, 3.84072437]),\n",
       " array([3.85377368, 3.84072437]),\n",
       " array([3.85377368, 3.84072437]),\n",
       " array([3.85377368, 3.84072437]),\n",
       " array([3.85377368, 3.84072437]),\n",
       " array([3.85377368, 3.84072437]),\n",
       " array([3.85377368, 3.84072437]),\n",
       " array([3.85377368, 3.84072437]),\n",
       " array([3.85377368, 3.84072437]),\n",
       " array([3.85377368, 3.84072437]),\n",
       " array([3.85377368, 3.84072437]),\n",
       " array([3.85377368, 3.84072437]),\n",
       " array([3.85377368, 3.84072437]),\n",
       " array([3.85377368, 3.84072437]),\n",
       " array([3.85377368, 3.84072437]),\n",
       " array([3.85377368, 3.84072437]),\n",
       " array([3.85377368, 3.84072437]),\n",
       " array([3.85377368, 3.84072437]),\n",
       " array([3.85377368, 3.84072437]),\n",
       " array([3.85377368, 3.84072437]),\n",
       " array([3.85377368, 3.84072437]),\n",
       " array([3.85377368, 3.84072437]),\n",
       " array([3.85377368, 3.84072437]),\n",
       " array([3.85377368, 3.84072437]),\n",
       " array([3.85377368, 3.84072437]),\n",
       " array([3.85377368, 3.84072437]),\n",
       " array([3.85377368, 3.84072437]),\n",
       " array([3.85377368, 3.84072437]),\n",
       " array([3.85377368, 3.84072437]),\n",
       " array([3.85377368, 3.84072437]),\n",
       " array([3.85377368, 3.84072437]),\n",
       " array([3.85377368, 3.84072437]),\n",
       " array([3.85377368, 3.84072437]),\n",
       " array([3.85377368, 3.84072437]),\n",
       " array([3.85377368, 3.84072437]),\n",
       " array([3.85377368, 3.84072437]),\n",
       " array([3.85377368, 3.84072437]),\n",
       " array([3.85377368, 3.84072437]),\n",
       " array([3.85377368, 3.84072437]),\n",
       " array([3.85377368, 3.84072437]),\n",
       " array([3.85377368, 3.84072437]),\n",
       " array([3.85377368, 3.84072437]),\n",
       " array([3.85377368, 3.84072437]),\n",
       " array([3.85377368, 3.84072437]),\n",
       " array([3.85377368, 3.84072437]),\n",
       " array([3.85377368, 3.84072437]),\n",
       " array([3.85377368, 3.84072437]),\n",
       " array([3.85377368, 3.84072437]),\n",
       " array([-3.14622632,  0.64072437]),\n",
       " array([-3.14622632,  0.64072437]),\n",
       " array([-3.14622632,  0.64072437]),\n",
       " array([-3.14622632,  0.64072437]),\n",
       " array([-3.14622632,  0.64072437]),\n",
       " array([-3.14622632,  0.64072437]),\n",
       " array([-3.14622632,  0.64072437]),\n",
       " array([-3.14622632,  0.64072437]),\n",
       " array([-3.14622632,  0.64072437]),\n",
       " array([-3.14622632,  0.64072437]),\n",
       " array([-3.14622632,  0.64072437]),\n",
       " array([-3.14622632,  0.64072437]),\n",
       " array([-3.14622632,  0.64072437]),\n",
       " array([-3.14622632,  0.64072437]),\n",
       " array([-3.14622632,  0.64072437]),\n",
       " array([-3.14622632,  0.64072437]),\n",
       " array([-3.14622632,  0.64072437]),\n",
       " array([-3.14622632,  0.64072437]),\n",
       " array([-3.14622632,  0.64072437]),\n",
       " array([-3.14622632,  0.64072437]),\n",
       " array([-3.14622632,  0.64072437]),\n",
       " array([-3.14622632,  0.64072437]),\n",
       " array([-3.14622632,  0.64072437]),\n",
       " array([-3.14622632,  0.64072437]),\n",
       " array([-3.14622632,  0.64072437]),\n",
       " array([-3.14622632,  0.64072437]),\n",
       " array([-3.14622632,  0.64072437]),\n",
       " array([-3.14622632,  0.64072437]),\n",
       " array([-3.14622632,  0.64072437]),\n",
       " array([-3.14622632,  0.64072437]),\n",
       " array([-3.14622632,  0.64072437]),\n",
       " array([-3.14622632,  0.64072437]),\n",
       " array([-3.14622632,  0.64072437]),\n",
       " array([-3.14622632,  0.64072437]),\n",
       " array([-3.14622632,  0.64072437]),\n",
       " array([-3.14622632,  0.64072437]),\n",
       " array([-3.14622632,  0.64072437]),\n",
       " array([-3.14622632,  0.64072437]),\n",
       " array([-3.14622632,  0.64072437]),\n",
       " array([-3.14622632,  0.64072437]),\n",
       " array([-3.14622632,  0.64072437]),\n",
       " array([-3.14622632,  0.64072437]),\n",
       " array([-3.14622632,  0.64072437]),\n",
       " array([-3.14622632,  0.64072437]),\n",
       " array([-3.14622632,  0.64072437]),\n",
       " array([-3.14622632,  0.64072437]),\n",
       " array([-3.14622632,  0.64072437]),\n",
       " array([-3.14622632,  0.64072437]),\n",
       " array([-3.14622632,  0.64072437]),\n",
       " array([-3.14622632,  0.64072437]),\n",
       " array([-3.14622632,  0.64072437]),\n",
       " array([-3.14622632,  0.64072437]),\n",
       " array([-3.14622632,  0.64072437]),\n",
       " array([-3.14622632,  0.64072437]),\n",
       " array([-3.14622632,  0.64072437]),\n",
       " array([-3.14622632,  0.64072437]),\n",
       " array([-3.14622632,  0.64072437]),\n",
       " array([-3.14622632,  0.64072437]),\n",
       " array([-3.14622632,  0.64072437]),\n",
       " array([-3.14622632,  0.64072437]),\n",
       " array([-3.14622632,  0.64072437]),\n",
       " array([-3.14622632,  0.64072437]),\n",
       " array([-3.14622632,  0.64072437]),\n",
       " array([-3.14622632,  0.64072437]),\n",
       " array([-3.14622632,  0.64072437]),\n",
       " array([-3.14622632,  0.64072437]),\n",
       " array([-3.14622632,  0.64072437]),\n",
       " array([-3.14622632,  0.64072437]),\n",
       " array([-3.14622632,  0.64072437]),\n",
       " array([-3.14622632,  0.64072437]),\n",
       " array([-3.14622632,  0.64072437]),\n",
       " array([-3.14622632,  0.64072437]),\n",
       " array([-3.14622632,  0.64072437]),\n",
       " array([-3.14622632,  0.64072437]),\n",
       " array([-3.14622632,  0.64072437]),\n",
       " array([-3.14622632,  0.64072437]),\n",
       " array([-3.14622632,  0.64072437]),\n",
       " array([-3.14622632,  0.64072437]),\n",
       " array([-3.14622632,  0.64072437]),\n",
       " array([-3.14622632,  0.64072437]),\n",
       " array([-3.14622632,  0.64072437]),\n",
       " array([-3.14622632,  0.64072437]),\n",
       " array([-3.14622632,  0.64072437]),\n",
       " array([-3.14622632,  0.64072437]),\n",
       " array([-3.14622632,  0.64072437]),\n",
       " array([-3.14622632,  0.64072437]),\n",
       " array([-3.14622632,  0.64072437]),\n",
       " array([-3.14622632,  0.64072437]),\n",
       " array([-3.14622632,  0.64072437]),\n",
       " array([-3.14622632,  0.64072437]),\n",
       " array([-3.14622632,  0.64072437]),\n",
       " array([-3.14622632,  0.64072437]),\n",
       " array([-3.14622632,  0.64072437]),\n",
       " array([-3.14622632,  0.64072437]),\n",
       " array([-3.14622632,  0.64072437]),\n",
       " array([-3.14622632,  0.64072437]),\n",
       " array([-3.14622632,  0.64072437]),\n",
       " array([-3.14622632,  0.64072437]),\n",
       " array([-3.14622632,  0.64072437]),\n",
       " array([-3.14622632,  0.64072437]),\n",
       " array([1.95377368, 4.14072437]),\n",
       " array([1.95377368, 4.14072437]),\n",
       " array([1.95377368, 4.14072437]),\n",
       " array([1.95377368, 4.14072437]),\n",
       " array([1.95377368, 4.14072437]),\n",
       " array([1.95377368, 4.14072437]),\n",
       " array([1.95377368, 4.14072437]),\n",
       " array([1.95377368, 4.14072437]),\n",
       " array([1.95377368, 4.14072437]),\n",
       " array([1.95377368, 4.14072437]),\n",
       " array([1.95377368, 4.14072437]),\n",
       " array([1.95377368, 4.14072437]),\n",
       " array([1.95377368, 4.14072437]),\n",
       " array([1.95377368, 4.14072437]),\n",
       " array([1.95377368, 4.14072437]),\n",
       " array([1.95377368, 4.14072437]),\n",
       " array([1.95377368, 4.14072437]),\n",
       " array([1.95377368, 4.14072437]),\n",
       " array([1.95377368, 4.14072437]),\n",
       " array([1.95377368, 4.14072437]),\n",
       " array([1.95377368, 4.14072437]),\n",
       " array([1.95377368, 4.14072437]),\n",
       " array([1.95377368, 4.14072437]),\n",
       " array([1.95377368, 4.14072437]),\n",
       " array([1.95377368, 4.14072437]),\n",
       " array([1.95377368, 4.14072437]),\n",
       " array([1.95377368, 4.14072437]),\n",
       " array([1.95377368, 4.14072437]),\n",
       " array([1.95377368, 4.14072437]),\n",
       " array([1.95377368, 4.14072437]),\n",
       " array([1.95377368, 4.14072437]),\n",
       " array([1.95377368, 4.14072437]),\n",
       " array([1.95377368, 4.14072437]),\n",
       " array([1.95377368, 4.14072437]),\n",
       " array([1.95377368, 4.14072437]),\n",
       " array([1.95377368, 4.14072437]),\n",
       " array([1.95377368, 4.14072437]),\n",
       " array([1.95377368, 4.14072437]),\n",
       " array([1.95377368, 4.14072437]),\n",
       " array([1.95377368, 4.14072437]),\n",
       " array([1.95377368, 4.14072437]),\n",
       " array([1.95377368, 4.14072437]),\n",
       " array([1.95377368, 4.14072437]),\n",
       " array([1.95377368, 4.14072437]),\n",
       " array([1.95377368, 4.14072437]),\n",
       " array([1.95377368, 4.14072437]),\n",
       " array([1.95377368, 4.14072437]),\n",
       " array([1.95377368, 4.14072437]),\n",
       " array([1.95377368, 4.14072437]),\n",
       " array([1.95377368, 4.14072437]),\n",
       " array([-5.04622632,  0.94072437]),\n",
       " array([-5.04622632,  0.94072437]),\n",
       " array([-5.04622632,  0.94072437]),\n",
       " array([-5.04622632,  0.94072437]),\n",
       " array([-5.04622632,  0.94072437]),\n",
       " array([-5.04622632,  0.94072437]),\n",
       " array([-5.04622632,  0.94072437]),\n",
       " array([-5.04622632,  0.94072437]),\n",
       " array([-5.04622632,  0.94072437]),\n",
       " array([-5.04622632,  0.94072437]),\n",
       " array([-5.04622632,  0.94072437]),\n",
       " array([-5.04622632,  0.94072437]),\n",
       " array([-5.04622632,  0.94072437]),\n",
       " array([-5.04622632,  0.94072437]),\n",
       " array([-5.04622632,  0.94072437]),\n",
       " array([-5.04622632,  0.94072437]),\n",
       " array([-5.04622632,  0.94072437]),\n",
       " array([-5.04622632,  0.94072437]),\n",
       " array([-5.04622632,  0.94072437]),\n",
       " array([-5.04622632,  0.94072437]),\n",
       " array([-5.04622632,  0.94072437]),\n",
       " array([-5.04622632,  0.94072437]),\n",
       " array([-5.04622632,  0.94072437]),\n",
       " array([-5.04622632,  0.94072437]),\n",
       " array([-5.04622632,  0.94072437]),\n",
       " array([-5.04622632,  0.94072437]),\n",
       " array([-5.04622632,  0.94072437]),\n",
       " array([-5.04622632,  0.94072437]),\n",
       " array([-5.04622632,  0.94072437]),\n",
       " array([-5.04622632,  0.94072437]),\n",
       " array([-5.04622632,  0.94072437]),\n",
       " array([-5.04622632,  0.94072437]),\n",
       " array([-5.04622632,  0.94072437]),\n",
       " array([-5.04622632,  0.94072437]),\n",
       " array([-5.04622632,  0.94072437]),\n",
       " array([-5.04622632,  0.94072437]),\n",
       " array([-5.04622632,  0.94072437]),\n",
       " array([-5.04622632,  0.94072437]),\n",
       " array([-5.04622632,  0.94072437]),\n",
       " array([-5.04622632,  0.94072437]),\n",
       " array([-5.04622632,  0.94072437]),\n",
       " array([-5.04622632,  0.94072437]),\n",
       " array([-5.04622632,  0.94072437]),\n",
       " array([-5.04622632,  0.94072437]),\n",
       " array([-5.04622632,  0.94072437]),\n",
       " array([-5.04622632,  0.94072437]),\n",
       " array([-5.04622632,  0.94072437]),\n",
       " array([-5.04622632,  0.94072437]),\n",
       " array([-5.04622632,  0.94072437]),\n",
       " array([-5.04622632,  0.94072437]),\n",
       " array([-5.04622632,  0.94072437]),\n",
       " array([-5.04622632,  0.94072437]),\n",
       " array([-5.04622632,  0.94072437]),\n",
       " array([-5.04622632,  0.94072437]),\n",
       " array([-5.04622632,  0.94072437]),\n",
       " array([-5.04622632,  0.94072437]),\n",
       " array([-5.04622632,  0.94072437]),\n",
       " array([-5.04622632,  0.94072437]),\n",
       " array([-5.04622632,  0.94072437]),\n",
       " array([-5.04622632,  0.94072437]),\n",
       " array([-5.04622632,  0.94072437]),\n",
       " array([-5.04622632,  0.94072437]),\n",
       " array([-5.04622632,  0.94072437]),\n",
       " array([-5.04622632,  0.94072437]),\n",
       " array([-5.04622632,  0.94072437]),\n",
       " array([-5.04622632,  0.94072437]),\n",
       " array([-5.04622632,  0.94072437]),\n",
       " array([-5.04622632,  0.94072437]),\n",
       " array([-5.04622632,  0.94072437]),\n",
       " array([-5.04622632,  0.94072437]),\n",
       " array([-5.04622632,  0.94072437]),\n",
       " array([-5.04622632,  0.94072437]),\n",
       " array([-5.04622632,  0.94072437]),\n",
       " array([-5.04622632,  0.94072437]),\n",
       " array([-5.04622632,  0.94072437]),\n",
       " array([-5.04622632,  0.94072437]),\n",
       " array([-5.04622632,  0.94072437]),\n",
       " array([-5.04622632,  0.94072437]),\n",
       " array([-5.04622632,  0.94072437]),\n",
       " array([-5.04622632,  0.94072437]),\n",
       " array([-5.04622632,  0.94072437]),\n",
       " array([-5.04622632,  0.94072437]),\n",
       " array([-5.04622632,  0.94072437]),\n",
       " array([-5.04622632,  0.94072437]),\n",
       " array([-5.04622632,  0.94072437]),\n",
       " array([-5.04622632,  0.94072437]),\n",
       " array([-5.04622632,  0.94072437]),\n",
       " array([-5.04622632,  0.94072437]),\n",
       " array([-5.04622632,  0.94072437]),\n",
       " array([-5.04622632,  0.94072437]),\n",
       " array([-5.04622632,  0.94072437]),\n",
       " array([-5.04622632,  0.94072437]),\n",
       " array([-5.04622632,  0.94072437]),\n",
       " array([-5.04622632,  0.94072437]),\n",
       " array([-5.04622632,  0.94072437]),\n",
       " array([-5.04622632,  0.94072437]),\n",
       " array([-5.04622632,  0.94072437]),\n",
       " array([-5.04622632,  0.94072437]),\n",
       " array([-5.04622632,  0.94072437]),\n",
       " array([-5.04622632,  0.94072437]),\n",
       " array([0.05377368, 4.44072437]),\n",
       " array([0.05377368, 4.44072437]),\n",
       " array([0.05377368, 4.44072437]),\n",
       " array([0.05377368, 4.44072437]),\n",
       " array([0.05377368, 4.44072437]),\n",
       " array([0.05377368, 4.44072437]),\n",
       " array([0.05377368, 4.44072437]),\n",
       " array([0.05377368, 4.44072437]),\n",
       " array([0.05377368, 4.44072437]),\n",
       " array([0.05377368, 4.44072437]),\n",
       " array([0.05377368, 4.44072437]),\n",
       " array([0.05377368, 4.44072437]),\n",
       " array([0.05377368, 4.44072437]),\n",
       " array([0.05377368, 4.44072437]),\n",
       " array([0.05377368, 4.44072437]),\n",
       " array([0.05377368, 4.44072437]),\n",
       " array([0.05377368, 4.44072437]),\n",
       " array([0.05377368, 4.44072437]),\n",
       " array([0.05377368, 4.44072437]),\n",
       " array([0.05377368, 4.44072437]),\n",
       " array([0.05377368, 4.44072437]),\n",
       " array([0.05377368, 4.44072437]),\n",
       " array([0.05377368, 4.44072437]),\n",
       " array([0.05377368, 4.44072437]),\n",
       " array([0.05377368, 4.44072437]),\n",
       " array([0.05377368, 4.44072437]),\n",
       " array([0.05377368, 4.44072437]),\n",
       " array([0.05377368, 4.44072437]),\n",
       " array([0.05377368, 4.44072437]),\n",
       " array([0.05377368, 4.44072437]),\n",
       " array([0.05377368, 4.44072437]),\n",
       " array([0.05377368, 4.44072437]),\n",
       " array([0.05377368, 4.44072437]),\n",
       " array([0.05377368, 4.44072437]),\n",
       " array([0.05377368, 4.44072437]),\n",
       " array([0.05377368, 4.44072437]),\n",
       " array([0.05377368, 4.44072437]),\n",
       " array([0.05377368, 4.44072437]),\n",
       " array([0.05377368, 4.44072437]),\n",
       " array([0.05377368, 4.44072437]),\n",
       " array([0.05377368, 4.44072437]),\n",
       " array([0.05377368, 4.44072437]),\n",
       " array([0.05377368, 4.44072437]),\n",
       " array([0.05377368, 4.44072437]),\n",
       " array([0.05377368, 4.44072437]),\n",
       " array([0.05377368, 4.44072437]),\n",
       " array([0.05377368, 4.44072437]),\n",
       " array([0.05377368, 4.44072437]),\n",
       " array([0.05377368, 4.44072437]),\n",
       " array([0.05377368, 4.44072437]),\n",
       " array([-6.94622632,  1.24072437]),\n",
       " array([-6.94622632,  1.24072437]),\n",
       " array([-6.94622632,  1.24072437]),\n",
       " array([-6.94622632,  1.24072437]),\n",
       " array([-6.94622632,  1.24072437]),\n",
       " array([-6.94622632,  1.24072437]),\n",
       " array([-6.94622632,  1.24072437]),\n",
       " array([-6.94622632,  1.24072437]),\n",
       " array([-6.94622632,  1.24072437]),\n",
       " array([-6.94622632,  1.24072437]),\n",
       " array([-6.94622632,  1.24072437]),\n",
       " array([-6.94622632,  1.24072437]),\n",
       " array([-6.94622632,  1.24072437]),\n",
       " array([-6.94622632,  1.24072437]),\n",
       " array([-6.94622632,  1.24072437]),\n",
       " array([-6.94622632,  1.24072437]),\n",
       " array([-6.94622632,  1.24072437]),\n",
       " array([-6.94622632,  1.24072437]),\n",
       " array([-6.94622632,  1.24072437]),\n",
       " array([-6.94622632,  1.24072437]),\n",
       " array([-6.94622632,  1.24072437]),\n",
       " array([-6.94622632,  1.24072437]),\n",
       " array([-6.94622632,  1.24072437]),\n",
       " array([-6.94622632,  1.24072437]),\n",
       " array([-6.94622632,  1.24072437]),\n",
       " array([-6.94622632,  1.24072437]),\n",
       " array([-6.94622632,  1.24072437]),\n",
       " array([-6.94622632,  1.24072437]),\n",
       " array([-6.94622632,  1.24072437]),\n",
       " array([-6.94622632,  1.24072437]),\n",
       " array([-6.94622632,  1.24072437]),\n",
       " array([-6.94622632,  1.24072437]),\n",
       " array([-6.94622632,  1.24072437]),\n",
       " array([-6.94622632,  1.24072437]),\n",
       " array([-6.94622632,  1.24072437]),\n",
       " array([-6.94622632,  1.24072437]),\n",
       " array([-6.94622632,  1.24072437]),\n",
       " array([-6.94622632,  1.24072437]),\n",
       " array([-6.94622632,  1.24072437]),\n",
       " array([-6.94622632,  1.24072437]),\n",
       " array([-6.94622632,  1.24072437]),\n",
       " array([-6.94622632,  1.24072437]),\n",
       " array([-6.94622632,  1.24072437]),\n",
       " array([-6.94622632,  1.24072437]),\n",
       " array([-6.94622632,  1.24072437]),\n",
       " array([-6.94622632,  1.24072437]),\n",
       " array([-6.94622632,  1.24072437]),\n",
       " array([-6.94622632,  1.24072437]),\n",
       " array([-6.94622632,  1.24072437]),\n",
       " array([-6.94622632,  1.24072437]),\n",
       " array([-6.94622632,  1.24072437]),\n",
       " array([-6.94622632,  1.24072437]),\n",
       " array([-6.94622632,  1.24072437]),\n",
       " array([-6.94622632,  1.24072437]),\n",
       " array([-6.94622632,  1.24072437]),\n",
       " array([-6.94622632,  1.24072437]),\n",
       " array([-6.94622632,  1.24072437]),\n",
       " array([-6.94622632,  1.24072437]),\n",
       " array([-6.94622632,  1.24072437]),\n",
       " array([-6.94622632,  1.24072437]),\n",
       " array([-6.94622632,  1.24072437]),\n",
       " array([-6.94622632,  1.24072437]),\n",
       " array([-6.94622632,  1.24072437]),\n",
       " array([-6.94622632,  1.24072437]),\n",
       " array([-6.94622632,  1.24072437]),\n",
       " array([-6.94622632,  1.24072437]),\n",
       " array([-6.94622632,  1.24072437]),\n",
       " array([-6.94622632,  1.24072437]),\n",
       " array([-6.94622632,  1.24072437]),\n",
       " array([-6.94622632,  1.24072437]),\n",
       " array([-6.94622632,  1.24072437]),\n",
       " array([-6.94622632,  1.24072437]),\n",
       " array([-6.94622632,  1.24072437]),\n",
       " array([-6.94622632,  1.24072437]),\n",
       " array([-6.94622632,  1.24072437]),\n",
       " array([-6.94622632,  1.24072437]),\n",
       " array([-6.94622632,  1.24072437]),\n",
       " array([-6.94622632,  1.24072437]),\n",
       " array([-6.94622632,  1.24072437]),\n",
       " array([-6.94622632,  1.24072437]),\n",
       " array([-6.94622632,  1.24072437]),\n",
       " array([-6.94622632,  1.24072437]),\n",
       " array([-6.94622632,  1.24072437]),\n",
       " array([-6.94622632,  1.24072437]),\n",
       " array([-6.94622632,  1.24072437]),\n",
       " array([-6.94622632,  1.24072437]),\n",
       " array([-6.94622632,  1.24072437]),\n",
       " array([-6.94622632,  1.24072437]),\n",
       " array([-6.94622632,  1.24072437]),\n",
       " array([-6.94622632,  1.24072437]),\n",
       " array([-6.94622632,  1.24072437]),\n",
       " array([-6.94622632,  1.24072437]),\n",
       " array([-6.94622632,  1.24072437]),\n",
       " array([-6.94622632,  1.24072437]),\n",
       " array([-6.94622632,  1.24072437]),\n",
       " array([-6.94622632,  1.24072437]),\n",
       " array([-6.94622632,  1.24072437]),\n",
       " array([-6.94622632,  1.24072437]),\n",
       " array([-6.94622632,  1.24072437]),\n",
       " array([-6.94622632,  1.24072437]),\n",
       " array([-1.84622632,  4.74072437]),\n",
       " array([-1.84622632,  4.74072437]),\n",
       " array([-1.84622632,  4.74072437]),\n",
       " array([-1.84622632,  4.74072437]),\n",
       " array([-1.84622632,  4.74072437]),\n",
       " array([-1.84622632,  4.74072437]),\n",
       " array([-1.84622632,  4.74072437]),\n",
       " array([-1.84622632,  4.74072437]),\n",
       " array([-1.84622632,  4.74072437]),\n",
       " array([-1.84622632,  4.74072437]),\n",
       " array([-1.84622632,  4.74072437]),\n",
       " array([-1.84622632,  4.74072437]),\n",
       " array([-1.84622632,  4.74072437]),\n",
       " array([-1.84622632,  4.74072437]),\n",
       " array([-1.84622632,  4.74072437]),\n",
       " array([-1.84622632,  4.74072437]),\n",
       " array([-1.84622632,  4.74072437]),\n",
       " array([-1.84622632,  4.74072437]),\n",
       " array([-1.84622632,  4.74072437]),\n",
       " array([-1.84622632,  4.74072437]),\n",
       " array([-1.84622632,  4.74072437]),\n",
       " array([-1.84622632,  4.74072437]),\n",
       " array([-1.84622632,  4.74072437]),\n",
       " array([-1.84622632,  4.74072437]),\n",
       " array([-1.84622632,  4.74072437]),\n",
       " array([-1.84622632,  4.74072437]),\n",
       " array([-1.84622632,  4.74072437]),\n",
       " array([-1.84622632,  4.74072437]),\n",
       " array([-1.84622632,  4.74072437]),\n",
       " array([-1.84622632,  4.74072437]),\n",
       " array([-1.84622632,  4.74072437]),\n",
       " array([-1.84622632,  4.74072437]),\n",
       " array([-1.84622632,  4.74072437]),\n",
       " array([-1.84622632,  4.74072437]),\n",
       " array([-1.84622632,  4.74072437]),\n",
       " array([-1.84622632,  4.74072437]),\n",
       " array([-1.84622632,  4.74072437]),\n",
       " array([-1.84622632,  4.74072437]),\n",
       " array([-1.84622632,  4.74072437]),\n",
       " array([-1.84622632,  4.74072437]),\n",
       " array([-1.84622632,  4.74072437]),\n",
       " array([-1.84622632,  4.74072437]),\n",
       " array([-1.84622632,  4.74072437]),\n",
       " array([-1.84622632,  4.74072437]),\n",
       " array([-1.84622632,  4.74072437]),\n",
       " array([-1.84622632,  4.74072437]),\n",
       " array([-1.84622632,  4.74072437]),\n",
       " array([-1.84622632,  4.74072437]),\n",
       " array([-1.84622632,  4.74072437]),\n",
       " array([-1.84622632,  4.74072437]),\n",
       " array([-8.84622632,  1.54072437]),\n",
       " array([-8.84622632,  1.54072437]),\n",
       " array([-8.84622632,  1.54072437]),\n",
       " array([-8.84622632,  1.54072437]),\n",
       " array([-8.84622632,  1.54072437]),\n",
       " array([-8.84622632,  1.54072437]),\n",
       " array([-8.84622632,  1.54072437]),\n",
       " array([-8.84622632,  1.54072437]),\n",
       " array([-8.84622632,  1.54072437]),\n",
       " array([-8.84622632,  1.54072437]),\n",
       " array([-8.84622632,  1.54072437]),\n",
       " array([-8.84622632,  1.54072437]),\n",
       " array([-8.84622632,  1.54072437]),\n",
       " array([-8.84622632,  1.54072437]),\n",
       " array([-8.84622632,  1.54072437]),\n",
       " array([-8.84622632,  1.54072437]),\n",
       " array([-8.84622632,  1.54072437]),\n",
       " array([-8.84622632,  1.54072437]),\n",
       " array([-8.84622632,  1.54072437]),\n",
       " array([-8.84622632,  1.54072437]),\n",
       " array([-8.84622632,  1.54072437]),\n",
       " array([-8.84622632,  1.54072437]),\n",
       " array([-8.84622632,  1.54072437]),\n",
       " array([-8.84622632,  1.54072437]),\n",
       " array([-8.84622632,  1.54072437]),\n",
       " array([-8.84622632,  1.54072437]),\n",
       " array([-8.84622632,  1.54072437]),\n",
       " array([-8.84622632,  1.54072437]),\n",
       " array([-8.84622632,  1.54072437]),\n",
       " array([-8.84622632,  1.54072437]),\n",
       " array([-8.84622632,  1.54072437]),\n",
       " array([-8.84622632,  1.54072437]),\n",
       " array([-8.84622632,  1.54072437]),\n",
       " array([-8.84622632,  1.54072437]),\n",
       " array([-8.84622632,  1.54072437]),\n",
       " array([-8.84622632,  1.54072437]),\n",
       " array([-8.84622632,  1.54072437]),\n",
       " array([-8.84622632,  1.54072437]),\n",
       " array([-8.84622632,  1.54072437]),\n",
       " array([-8.84622632,  1.54072437]),\n",
       " array([-8.84622632,  1.54072437]),\n",
       " array([-8.84622632,  1.54072437]),\n",
       " array([-8.84622632,  1.54072437]),\n",
       " array([-8.84622632,  1.54072437]),\n",
       " array([-8.84622632,  1.54072437]),\n",
       " array([-8.84622632,  1.54072437]),\n",
       " array([-8.84622632,  1.54072437]),\n",
       " array([-8.84622632,  1.54072437]),\n",
       " array([-8.84622632,  1.54072437]),\n",
       " array([-8.84622632,  1.54072437]),\n",
       " array([-8.84622632,  1.54072437]),\n",
       " array([-8.84622632,  1.54072437]),\n",
       " array([-8.84622632,  1.54072437]),\n",
       " array([-8.84622632,  1.54072437]),\n",
       " array([-8.84622632,  1.54072437]),\n",
       " array([-8.84622632,  1.54072437]),\n",
       " array([-8.84622632,  1.54072437]),\n",
       " array([-8.84622632,  1.54072437]),\n",
       " array([-8.84622632,  1.54072437]),\n",
       " array([-8.84622632,  1.54072437]),\n",
       " array([-8.84622632,  1.54072437]),\n",
       " array([-8.84622632,  1.54072437]),\n",
       " array([-8.84622632,  1.54072437]),\n",
       " array([-8.84622632,  1.54072437]),\n",
       " array([-8.84622632,  1.54072437]),\n",
       " array([-8.84622632,  1.54072437]),\n",
       " array([-8.84622632,  1.54072437]),\n",
       " array([-8.84622632,  1.54072437]),\n",
       " array([-8.84622632,  1.54072437]),\n",
       " array([-8.84622632,  1.54072437]),\n",
       " array([-8.84622632,  1.54072437]),\n",
       " array([-8.84622632,  1.54072437]),\n",
       " array([-8.84622632,  1.54072437]),\n",
       " array([-8.84622632,  1.54072437]),\n",
       " array([-8.84622632,  1.54072437]),\n",
       " array([-8.84622632,  1.54072437]),\n",
       " array([-8.84622632,  1.54072437]),\n",
       " array([-8.84622632,  1.54072437]),\n",
       " array([-8.84622632,  1.54072437]),\n",
       " array([-8.84622632,  1.54072437]),\n",
       " array([-8.84622632,  1.54072437]),\n",
       " array([-8.84622632,  1.54072437]),\n",
       " array([-8.84622632,  1.54072437]),\n",
       " array([-8.84622632,  1.54072437]),\n",
       " array([-8.84622632,  1.54072437]),\n",
       " array([-8.84622632,  1.54072437]),\n",
       " array([-8.84622632,  1.54072437]),\n",
       " array([-8.84622632,  1.54072437]),\n",
       " array([-8.84622632,  1.54072437]),\n",
       " array([-8.84622632,  1.54072437]),\n",
       " array([-8.84622632,  1.54072437]),\n",
       " array([-8.84622632,  1.54072437]),\n",
       " array([-8.84622632,  1.54072437]),\n",
       " array([-8.84622632,  1.54072437]),\n",
       " array([-8.84622632,  1.54072437]),\n",
       " array([-8.84622632,  1.54072437]),\n",
       " array([-8.84622632,  1.54072437]),\n",
       " array([-8.84622632,  1.54072437]),\n",
       " array([-8.84622632,  1.54072437]),\n",
       " array([-8.84622632,  1.54072437]),\n",
       " array([-3.74622632,  5.04072437]),\n",
       " array([1.15377368, 8.04072437]),\n",
       " array([1.15377368, 8.04072437]),\n",
       " array([1.15377368, 8.04072437]),\n",
       " array([1.15377368, 8.04072437]),\n",
       " array([1.15377368, 8.04072437]),\n",
       " array([1.15377368, 8.04072437]),\n",
       " array([1.15377368, 8.04072437]),\n",
       " array([1.15377368, 8.04072437]),\n",
       " array([1.15377368, 8.04072437]),\n",
       " array([1.15377368, 8.04072437]),\n",
       " array([1.15377368, 8.04072437]),\n",
       " array([1.15377368, 8.04072437]),\n",
       " array([1.15377368, 8.04072437]),\n",
       " array([1.15377368, 8.04072437]),\n",
       " array([1.15377368, 8.04072437]),\n",
       " array([1.15377368, 8.04072437]),\n",
       " array([1.15377368, 8.04072437]),\n",
       " array([1.15377368, 8.04072437]),\n",
       " array([1.15377368, 8.04072437]),\n",
       " array([1.15377368, 8.04072437]),\n",
       " array([1.15377368, 8.04072437]),\n",
       " array([1.15377368, 8.04072437]),\n",
       " array([1.15377368, 8.04072437]),\n",
       " array([1.15377368, 8.04072437]),\n",
       " array([1.15377368, 8.04072437]),\n",
       " array([1.15377368, 8.04072437]),\n",
       " array([1.15377368, 8.04072437]),\n",
       " array([1.15377368, 8.04072437]),\n",
       " array([1.15377368, 8.04072437]),\n",
       " array([1.15377368, 8.04072437]),\n",
       " array([1.15377368, 8.04072437]),\n",
       " array([1.15377368, 8.04072437]),\n",
       " array([1.15377368, 8.04072437]),\n",
       " array([1.15377368, 8.04072437]),\n",
       " array([1.15377368, 8.04072437]),\n",
       " array([1.15377368, 8.04072437]),\n",
       " array([1.15377368, 8.04072437]),\n",
       " array([1.15377368, 8.04072437]),\n",
       " array([1.15377368, 8.04072437]),\n",
       " array([1.15377368, 8.04072437]),\n",
       " array([1.15377368, 8.04072437]),\n",
       " array([1.15377368, 8.04072437]),\n",
       " array([1.15377368, 8.04072437]),\n",
       " array([1.15377368, 8.04072437]),\n",
       " array([1.15377368, 8.04072437]),\n",
       " array([1.15377368, 8.04072437]),\n",
       " array([1.15377368, 8.04072437]),\n",
       " array([1.15377368, 8.04072437]),\n",
       " array([1.15377368, 8.04072437]),\n",
       " array([-5.84622632,  4.84072437]),\n",
       " array([-5.84622632,  4.84072437]),\n",
       " array([-5.84622632,  4.84072437]),\n",
       " array([-5.84622632,  4.84072437]),\n",
       " array([-5.84622632,  4.84072437]),\n",
       " array([-5.84622632,  4.84072437]),\n",
       " array([-5.84622632,  4.84072437]),\n",
       " array([-5.84622632,  4.84072437]),\n",
       " array([-5.84622632,  4.84072437]),\n",
       " array([-5.84622632,  4.84072437]),\n",
       " array([-5.84622632,  4.84072437]),\n",
       " array([-5.84622632,  4.84072437]),\n",
       " array([-5.84622632,  4.84072437]),\n",
       " array([-5.84622632,  4.84072437]),\n",
       " array([-5.84622632,  4.84072437]),\n",
       " array([-5.84622632,  4.84072437]),\n",
       " array([-5.84622632,  4.84072437]),\n",
       " array([-5.84622632,  4.84072437]),\n",
       " array([-5.84622632,  4.84072437]),\n",
       " array([-5.84622632,  4.84072437]),\n",
       " array([-5.84622632,  4.84072437]),\n",
       " array([-5.84622632,  4.84072437]),\n",
       " array([-5.84622632,  4.84072437]),\n",
       " array([-5.84622632,  4.84072437]),\n",
       " array([-5.84622632,  4.84072437]),\n",
       " array([-5.84622632,  4.84072437]),\n",
       " array([-5.84622632,  4.84072437]),\n",
       " array([-5.84622632,  4.84072437]),\n",
       " array([-5.84622632,  4.84072437]),\n",
       " array([-5.84622632,  4.84072437]),\n",
       " array([-5.84622632,  4.84072437]),\n",
       " array([-5.84622632,  4.84072437]),\n",
       " array([-5.84622632,  4.84072437]),\n",
       " array([-5.84622632,  4.84072437]),\n",
       " array([-5.84622632,  4.84072437]),\n",
       " array([-5.84622632,  4.84072437]),\n",
       " array([-5.84622632,  4.84072437]),\n",
       " array([-5.84622632,  4.84072437]),\n",
       " array([-5.84622632,  4.84072437]),\n",
       " array([-5.84622632,  4.84072437]),\n",
       " array([-5.84622632,  4.84072437]),\n",
       " array([-5.84622632,  4.84072437]),\n",
       " array([-5.84622632,  4.84072437]),\n",
       " array([-5.84622632,  4.84072437]),\n",
       " array([-5.84622632,  4.84072437]),\n",
       " array([-5.84622632,  4.84072437]),\n",
       " array([-5.84622632,  4.84072437]),\n",
       " array([-5.84622632,  4.84072437]),\n",
       " array([-5.84622632,  4.84072437]),\n",
       " array([-5.84622632,  4.84072437]),\n",
       " array([-5.84622632,  4.84072437]),\n",
       " array([-5.84622632,  4.84072437]),\n",
       " array([-5.84622632,  4.84072437]),\n",
       " array([-5.84622632,  4.84072437]),\n",
       " array([-5.84622632,  4.84072437]),\n",
       " array([-5.84622632,  4.84072437]),\n",
       " array([-5.84622632,  4.84072437]),\n",
       " array([-5.84622632,  4.84072437]),\n",
       " array([-5.84622632,  4.84072437]),\n",
       " array([-5.84622632,  4.84072437]),\n",
       " array([-5.84622632,  4.84072437]),\n",
       " array([-5.84622632,  4.84072437]),\n",
       " array([-5.84622632,  4.84072437]),\n",
       " array([-5.84622632,  4.84072437]),\n",
       " array([-5.84622632,  4.84072437]),\n",
       " array([-5.84622632,  4.84072437]),\n",
       " array([-5.84622632,  4.84072437]),\n",
       " array([-5.84622632,  4.84072437]),\n",
       " array([-5.84622632,  4.84072437]),\n",
       " array([-5.84622632,  4.84072437]),\n",
       " array([-5.84622632,  4.84072437]),\n",
       " array([-5.84622632,  4.84072437]),\n",
       " array([-5.84622632,  4.84072437]),\n",
       " array([-5.84622632,  4.84072437]),\n",
       " array([-5.84622632,  4.84072437]),\n",
       " array([-5.84622632,  4.84072437]),\n",
       " array([-5.84622632,  4.84072437]),\n",
       " array([-5.84622632,  4.84072437]),\n",
       " array([-5.84622632,  4.84072437]),\n",
       " array([-5.84622632,  4.84072437]),\n",
       " array([-5.84622632,  4.84072437]),\n",
       " array([-5.84622632,  4.84072437]),\n",
       " array([-5.84622632,  4.84072437]),\n",
       " array([-5.84622632,  4.84072437]),\n",
       " array([-5.84622632,  4.84072437]),\n",
       " array([-5.84622632,  4.84072437]),\n",
       " array([-5.84622632,  4.84072437]),\n",
       " array([-5.84622632,  4.84072437]),\n",
       " array([-5.84622632,  4.84072437]),\n",
       " array([-5.84622632,  4.84072437]),\n",
       " array([-5.84622632,  4.84072437]),\n",
       " array([-5.84622632,  4.84072437]),\n",
       " array([-5.84622632,  4.84072437]),\n",
       " array([-5.84622632,  4.84072437]),\n",
       " array([-5.84622632,  4.84072437]),\n",
       " array([-5.84622632,  4.84072437]),\n",
       " array([-5.84622632,  4.84072437]),\n",
       " array([-5.84622632,  4.84072437]),\n",
       " array([-5.84622632,  4.84072437]),\n",
       " array([-5.84622632,  4.84072437]),\n",
       " array([-0.74622632,  8.34072437]),\n",
       " array([-0.74622632,  8.34072437]),\n",
       " array([-0.74622632,  8.34072437]),\n",
       " array([-0.74622632,  8.34072437]),\n",
       " array([-0.74622632,  8.34072437]),\n",
       " array([-0.74622632,  8.34072437]),\n",
       " array([-0.74622632,  8.34072437]),\n",
       " array([-0.74622632,  8.34072437]),\n",
       " array([-0.74622632,  8.34072437]),\n",
       " array([-0.74622632,  8.34072437]),\n",
       " array([-0.74622632,  8.34072437]),\n",
       " array([-0.74622632,  8.34072437]),\n",
       " array([-0.74622632,  8.34072437]),\n",
       " array([-0.74622632,  8.34072437]),\n",
       " array([-0.74622632,  8.34072437]),\n",
       " array([-0.74622632,  8.34072437]),\n",
       " array([-0.74622632,  8.34072437]),\n",
       " array([-0.74622632,  8.34072437]),\n",
       " array([-0.74622632,  8.34072437]),\n",
       " array([-0.74622632,  8.34072437]),\n",
       " array([-0.74622632,  8.34072437]),\n",
       " array([-0.74622632,  8.34072437]),\n",
       " array([-0.74622632,  8.34072437]),\n",
       " array([-0.74622632,  8.34072437]),\n",
       " array([-0.74622632,  8.34072437]),\n",
       " array([-0.74622632,  8.34072437]),\n",
       " array([-0.74622632,  8.34072437]),\n",
       " array([-0.74622632,  8.34072437]),\n",
       " array([-0.74622632,  8.34072437]),\n",
       " array([-0.74622632,  8.34072437]),\n",
       " array([-0.74622632,  8.34072437]),\n",
       " array([-0.74622632,  8.34072437]),\n",
       " array([-0.74622632,  8.34072437]),\n",
       " array([-0.74622632,  8.34072437]),\n",
       " array([-0.74622632,  8.34072437]),\n",
       " array([-0.74622632,  8.34072437]),\n",
       " array([-0.74622632,  8.34072437]),\n",
       " array([-0.74622632,  8.34072437]),\n",
       " array([-0.74622632,  8.34072437]),\n",
       " array([-0.74622632,  8.34072437]),\n",
       " array([-0.74622632,  8.34072437]),\n",
       " array([-0.74622632,  8.34072437]),\n",
       " array([-0.74622632,  8.34072437]),\n",
       " array([-0.74622632,  8.34072437]),\n",
       " array([-0.74622632,  8.34072437]),\n",
       " array([-0.74622632,  8.34072437]),\n",
       " array([-0.74622632,  8.34072437]),\n",
       " array([-0.74622632,  8.34072437]),\n",
       " array([-0.74622632,  8.34072437]),\n",
       " array([-0.74622632,  8.34072437]),\n",
       " array([-7.74622632,  5.14072437]),\n",
       " array([-7.74622632,  5.14072437]),\n",
       " array([-7.74622632,  5.14072437]),\n",
       " array([-7.74622632,  5.14072437]),\n",
       " array([-7.74622632,  5.14072437]),\n",
       " array([-7.74622632,  5.14072437]),\n",
       " array([-7.74622632,  5.14072437]),\n",
       " array([-7.74622632,  5.14072437]),\n",
       " array([-7.74622632,  5.14072437]),\n",
       " array([-7.74622632,  5.14072437]),\n",
       " array([-7.74622632,  5.14072437]),\n",
       " array([-7.74622632,  5.14072437]),\n",
       " array([-7.74622632,  5.14072437]),\n",
       " array([-7.74622632,  5.14072437]),\n",
       " array([-7.74622632,  5.14072437]),\n",
       " array([-7.74622632,  5.14072437]),\n",
       " array([-7.74622632,  5.14072437]),\n",
       " array([-7.74622632,  5.14072437]),\n",
       " array([-7.74622632,  5.14072437]),\n",
       " array([-7.74622632,  5.14072437]),\n",
       " array([-7.74622632,  5.14072437]),\n",
       " array([-7.74622632,  5.14072437]),\n",
       " array([-7.74622632,  5.14072437]),\n",
       " array([-7.74622632,  5.14072437]),\n",
       " array([-7.74622632,  5.14072437]),\n",
       " array([-7.74622632,  5.14072437]),\n",
       " array([-7.74622632,  5.14072437]),\n",
       " array([-7.74622632,  5.14072437]),\n",
       " array([-7.74622632,  5.14072437]),\n",
       " array([-7.74622632,  5.14072437]),\n",
       " array([-7.74622632,  5.14072437]),\n",
       " array([-7.74622632,  5.14072437]),\n",
       " array([-7.74622632,  5.14072437]),\n",
       " array([-7.74622632,  5.14072437]),\n",
       " array([-7.74622632,  5.14072437]),\n",
       " array([-7.74622632,  5.14072437]),\n",
       " array([-7.74622632,  5.14072437]),\n",
       " array([-7.74622632,  5.14072437]),\n",
       " array([-7.74622632,  5.14072437]),\n",
       " array([-7.74622632,  5.14072437]),\n",
       " array([-7.74622632,  5.14072437]),\n",
       " array([-7.74622632,  5.14072437]),\n",
       " array([-7.74622632,  5.14072437]),\n",
       " array([-7.74622632,  5.14072437]),\n",
       " array([-7.74622632,  5.14072437]),\n",
       " array([-7.74622632,  5.14072437]),\n",
       " array([-7.74622632,  5.14072437]),\n",
       " array([-7.74622632,  5.14072437]),\n",
       " array([-7.74622632,  5.14072437]),\n",
       " ...]"
      ]
     },
     "execution_count": 15,
     "metadata": {},
     "output_type": "execute_result"
    }
   ],
   "source": [
    "weight_history"
   ]
  },
  {
   "cell_type": "code",
   "execution_count": 16,
   "metadata": {
    "slideshow": {
     "slide_type": "subslide"
    }
   },
   "outputs": [
    {
     "name": "stdout",
     "output_type": "stream",
     "text": [
      "1\n",
      "1\n",
      "-1\n",
      "-1\n",
      "1\n",
      "1\n"
     ]
    }
   ],
   "source": [
    "# new flowers\n",
    "print(predict([5.6, 4.8], learned_weights))\n",
    "print(predict([3.4, 4.1], learned_weights))\n",
    "print(predict([5.8, 1.9], learned_weights))\n",
    "print(predict([6.2, 2.4], learned_weights))\n",
    "\n",
    "# flowers we already know\n",
    "print(predict([5.4, 3.9], learned_weights))\n",
    "print(predict([5.7, 4.4], learned_weights))"
   ]
  },
  {
   "cell_type": "markdown",
   "metadata": {},
   "source": [
    "## Exercise: predict iris setosa based on petals rather than sepals\n",
    "\n",
    "Implement the Perceptron Learning Algorithm (PLA) similarly as demonstrated above for the petal length and petal width. Run predictions on the full dataset using your calculated weights (output from the pla algorithm). How many of the predictions are true?"
   ]
  },
  {
   "cell_type": "markdown",
   "metadata": {
    "slideshow": {
     "slide_type": "subslide"
    }
   },
   "source": [
    "# What was going on here?\n",
    "\n",
    "Let's visualize how the weights slice our feature space and how they developed over the iterations... \n",
    "We will use weights / norm(weights) to create a (virtual) line descriping the direction of the weight line. The weightline is orthogonal to the division line that we want to illustrate. So we take the weightline from (0,0) to (w1,w2) and calculate the orthogonal line\n",
    "\n",
    "See [here for details](https://sergedesmedt.github.io/MathOfNeuralNetworks/PerceptronLearningMath.html#learn_perceptron_learningrule_animation)\n",
    "\n",
    "Intuitively, in a binary problem the weight vector points in the direction of the '1'-class, while the '0 or -1'-class is found when pointing away from the weight vector. The decision boundary should thus be drawn perpendicular to the weight vector.\n",
    "\n",
    "We do that by finding y-value when x==0 and x-value when y==0.\n",
    "![](https://www.researchgate.net/profile/Brian_Russell6/publication/254047495/figure/fig2/AS:669439649390595@1536618258079/The-perceptron-decision-boundary-Note-that-either-b-or-w-1-and-w-2-must-be-negative-to.ppm)\n",
    "\n",
    "And a more [simple explanation](https://medium.com/@thomascountz/calculate-the-decision-boundary-of-a-single-perceptron-visualizing-linear-separability-c4d77099ef38)"
   ]
  },
  {
   "cell_type": "code",
   "execution_count": 17,
   "metadata": {
    "slideshow": {
     "slide_type": "subslide"
    }
   },
   "outputs": [
    {
     "name": "stdout",
     "output_type": "stream",
     "text": [
      "slope: 0.591994320384208 bias -0.50942131860763\n",
      "(0.591994320384208, -0.50942131860763)\n",
      "slope: 0.591994320384208 bias -0.50942131860763\n"
     ]
    },
    {
     "data": {
      "image/png": "[encoded data removed]",
      "text/plain": [
       "<Figure size 432x288 with 1 Axes>"
      ]
     },
     "metadata": {
      "needs_background": "light"
     },
     "output_type": "display_data"
    }
   ],
   "source": [
    "\n",
    "def compute_line(weights):\n",
    "    \"\"\"\n",
    "    Visualizing Linear Separability by using weights/norm(weights) wich are othogonal to the division line.\n",
    "    Parameters:\n",
    "    weights: the weights calculated by PLA\n",
    "    \"\"\"\n",
    "    norm = np.linalg.norm(weights) # calculating the frobenius norm adjusting values measured on different scales to a notionally common scale\n",
    "    ww = weights / norm # weight vector is perpendicular (or othogonal) to the division line\n",
    "    ww1 = [ww[1], -ww[0]] # first point on our division line\n",
    "    ww2 = [-ww[1] , ww[0]] # second point on our division line\n",
    "    # slope and intercept\n",
    "    m = (ww2[1] - ww1[1]) / (ww2[0] - ww1[0]) # slope = delta y / delta x\n",
    "    b = ((ww2[0] - ww1[0]) * m) + ww1[1]      # intercept = delta x * slope + y(x1)\n",
    "    print('slope:',m,'bias',b)\n",
    "    return m, b\n",
    "\n",
    "\n",
    "print(compute_line(learned_weights))\n",
    "plot_data(trainings_data, compute_line(learned_weights))"
   ]
  },
  {
   "cell_type": "markdown",
   "metadata": {
    "slideshow": {
     "slide_type": "subslide"
    }
   },
   "source": [
    "In the following you see how the weights and thereby the line discriminating our iris flower dataset.\n",
    "\n",
    "![weights](./images/perceptron_anim.gif)"
   ]
  },
  {
   "cell_type": "markdown",
   "metadata": {
    "slideshow": {
     "slide_type": "subslide"
    }
   },
   "source": [
    "# We add a bias input...\n",
    "The [Role of a bias in neural networks](https://stackoverflow.com/questions/2480650/what-is-the-role-of-the-bias-in-neural-networks)  \n",
    "See how an artificial neural network (when trained **without a bias**) is bound to the point (0,0,0)\n",
    "\n",
    "![](https://i.stack.imgur.com/nsDCc.gif)\n",
    "\n",
    "**With a bias**\n",
    "![](https://i.stack.imgur.com/7rl1h.gif)\n",
    "\n",
    "For more details see this [article](https://www.byclb.com/TR/Tutorials/neural_networks/ch8_1.htm)"
   ]
  },
  {
   "cell_type": "code",
   "execution_count": 18,
   "metadata": {
    "slideshow": {
     "slide_type": "subslide"
    }
   },
   "outputs": [
    {
     "name": "stdout",
     "output_type": "stream",
     "text": [
      "[-61.48471491  90.34838587  73.43199813]\n"
     ]
    }
   ],
   "source": [
    "import numpy as np\n",
    "\n",
    "def predict_with_bias(inp, weights):\n",
    "    \"\"\"\n",
    "    Given a list of input (x) values and a list of weights, \n",
    "    calculates the dot product of the 2 lists and returns 1 or -1 (fire or don't)\n",
    "    Parameters:\n",
    "    inp: vector of input predictors\n",
    "    weights: vector of weights to be ajusted for precise prediction of output. If weights contains an additional value, this must be the bias\n",
    "    \"\"\"\n",
    "    if len(weights)>len(inp):\n",
    "        bias,weights = weights[-1],weights[:-1]\n",
    "        sum_bias = np.dot(weights,inp)+bias\n",
    "        return activation_function(sum_bias)\n",
    "    # This is the same as the dot product np.dot(i, w)\n",
    "    dot_product = sum([i * w for i, w in zip(inp, weights)])\n",
    "    output = activation_function(dot_product)\n",
    "    return output\n",
    "\n",
    "def pla(training_data, no_iterations=50000, w_bias=False, eta=0.5):\n",
    "    \"\"\"\n",
    "    Find the proper weights to use in the perceptron based on data and target\n",
    "    \n",
    "    Parameters:\n",
    "    training_data: list of vectors, as predictors zipped with a target value\n",
    "    no_iterations: number of times to adjust the weights to get them as close as possible to the optimal number\n",
    "    eta: the learning rate (prevent learning to go pendulum from one extreme error to the opposite)\n",
    "    w_bias: boolean to indicate whether to use a bias weight together with the input weights\n",
    "    \"\"\"\n",
    "    error = np.random.random()\n",
    "    dim = len(training_data[0][0])\n",
    "    weights = np.random.random(dim)\n",
    "    weight_history = [np.copy(weights)]\n",
    "\n",
    "    if w_bias:\n",
    "        weights = np.random.random(dim + 1) # an extra bias weight is added to the list of weights\n",
    "        data = np.array(list(zip(*training_data))[0]) # extract the data from the targets\n",
    "        \n",
    "        biases = np.ones((data.shape[0], 1)) # matrix of 150 rows by 1 column of values = 1\n",
    "        training_data_w_bias = np.append(data, biases, axis=1) # append the biases to the data creating extra column\n",
    "        training_data = list(zip(training_data_w_bias, list(zip(*training_data))[1])) # adding the target column\n",
    "    \n",
    "    for i in range(no_iterations):\n",
    "        inp_vec, expected_label = training_data[i % len(training_data)]\n",
    "        perceptron_output = perceptron(inp_vec, weights)\n",
    "        error = expected_label - perceptron_output\n",
    "\n",
    "        weights += eta * error * inp_vec\n",
    "        weight_history.append(np.copy(weights))\n",
    "\n",
    "    return weights, np.array(weight_history)\n",
    "\n",
    "# trainings_data is iris_data[:2] (first 2 columns) zipped with target data\n",
    "learned_weights, weight_history = pla(trainings_data, w_bias=True)\n",
    "#learned_weights = learned_weights[:2]\n",
    "print(learned_weights)\n",
    "\n",
    "\n",
    "#plot_data(trainings_data, compute_line(learned_weights))\n",
    "\n"
   ]
  },
  {
   "cell_type": "code",
   "execution_count": 19,
   "metadata": {
    "slideshow": {
     "slide_type": "subslide"
    }
   },
   "outputs": [
    {
     "name": "stdout",
     "output_type": "stream",
     "text": [
      "1\n",
      "1\n",
      "-1\n",
      "-1\n",
      "1\n",
      "1\n"
     ]
    }
   ],
   "source": [
    "print(predict_with_bias([5.6, 4.8], learned_weights))\n",
    "print(predict_with_bias([3.4, 4.1], learned_weights))\n",
    "print(predict_with_bias([5.8, 1.9], learned_weights))\n",
    "print(predict_with_bias([6.2, 2.4], learned_weights))\n",
    "\n",
    "# flowers we already know\n",
    "print(predict_with_bias([5.4, 3.9], learned_weights))\n",
    "print(predict_with_bias([5.7, 4.4], learned_weights))"
   ]
  },
  {
   "cell_type": "code",
   "execution_count": 20,
   "metadata": {
    "scrolled": true,
    "slideshow": {
     "slide_type": "subslide"
    }
   },
   "outputs": [
    {
     "data": {
      "image/png": "[encoded data removed]",
      "text/plain": [
       "<Figure size 432x288 with 1 Axes>"
      ]
     },
     "metadata": {
      "needs_background": "light"
     },
     "output_type": "display_data"
    }
   ],
   "source": [
    "def compute_error_rate(data, model):\n",
    "    \"\"\"based on a weight show the error rate \n",
    "    as number of wrong predictions relative to all predictions\n",
    "    \n",
    "    Parameters:\n",
    "    data: the training data with input and labels\n",
    "    model, the weight used in the prediction\"\"\"\n",
    "    \n",
    "    data_points, class_labels = list(zip(*data))\n",
    "    data_points = np.array(data_points)\n",
    "    class_labels = np.array(class_labels)\n",
    "    \n",
    "    errors = np.array([predict(vec, model) for vec in data_points])\n",
    "    c_falsy_elements = np.sum(errors != class_labels)\n",
    "    return c_falsy_elements / len(class_labels)\n",
    "\n",
    "\n",
    "# Calculate error rates for each weight in the weight history\n",
    "error_rates = [compute_error_rate(trainings_data, i) for i in weight_history]\n",
    "\n",
    "plt.plot(error_rates)\n",
    "plt.show()"
   ]
  },
  {
   "cell_type": "markdown",
   "metadata": {},
   "source": [
    "## Exercise draw the division line\n",
    "From the last exercise using 2d data with petal width and length draw the division line based on the calculated weights."
   ]
  }
 ],
 "metadata": {
  "celltoolbar": "Slideshow",
  "kernelspec": {
   "display_name": "Python 3",
   "language": "python",
   "name": "python3"
  },
  "language_info": {
   "codemirror_mode": {
    "name": "ipython",
    "version": 3
   },
   "file_extension": ".py",
   "mimetype": "text/x-python",
   "name": "python",
   "nbconvert_exporter": "python",
   "pygments_lexer": "ipython3",
   "version": "3.7.6"
  },
  "varInspector": {
   "cols": {
    "lenName": 16,
    "lenType": 16,
    "lenVar": 40
   },
   "kernels_config": {
    "python": {
     "delete_cmd_postfix": "",
     "delete_cmd_prefix": "del ",
     "library": "var_list.py",
     "varRefreshCmd": "print(var_dic_list())"
    },
    "r": {
     "delete_cmd_postfix": ") ",
     "delete_cmd_prefix": "rm(",
     "library": "var_list.r",
     "varRefreshCmd": "cat(var_dic_list()) "
    }
   },
   "types_to_exclude": [
    "module",
    "function",
    "builtin_function_or_method",
    "instance",
    "_Feature"
   ],
   "window_display": false
  }
 },
 "nbformat": 4,
 "nbformat_minor": 2
}
