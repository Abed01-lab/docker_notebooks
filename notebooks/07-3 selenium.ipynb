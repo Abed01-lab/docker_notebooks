{
 "cells": [
  {
   "cell_type": "markdown",
   "metadata": {
    "slideshow": {
     "slide_type": "slide"
    }
   },
   "source": [
    "# Selenium\n",
    "\n",
    "\n",
    "Where did the names and addresses in the previous exercise come from?\n",
    "\n",
    "**They are scraped from the web via a small Selenium script**\n",
    "\n",
    "A similar program, that would allow us to receive all URLs from www.kulturnaut.dk by clicking on the *\"Next page...\"* links, is here: [selenium_clicker.py](modules/selenium_clicker.py). \n"
   ]
  },
  {
   "cell_type": "markdown",
   "metadata": {
    "slideshow": {
     "slide_type": "slide"
    }
   },
   "source": [
    "## What is Selenium?\n",
    "\n",
    "> Selenium automates browsers. That's it! What you do with that power is entirely up to you. Primarily, it is for automating web applications for testing purposes, but is certainly not limited to just that. Boring web-based administration tasks can (and should!) also be automated as well.\n",
    "http://docs.seleniumhq.org\n",
    "\n"
   ]
  },
  {
   "cell_type": "markdown",
   "metadata": {
    "slideshow": {
     "slide_type": "slide"
    }
   },
   "source": [
    "## Automatically Finding Names, addresses and numbers\n",
    "\n",
    "If you run the [selenium_krak.py](modules/selenium_krak.py) script from the command line, you will observe, that it opens a Firefox window, enters a search string (*\"Møller\"*), clicks the links *\"Personer\"* to search for persons only, and finally it prints the HTML sources of the page.\n"
   ]
  },
  {
   "cell_type": "code",
   "execution_count": 1,
   "metadata": {},
   "outputs": [
    {
     "name": "stdout",
     "output_type": "stream",
     "text": [
      "BUTTON EXCEPTION Message: Unable to locate element: #qc-cmp2-ui > div.qc-cmp2-footer.qc-cmp2-footer-overlay.qc-cmp2-footer-scrolled > div > button.sc-bwzfXH.fgrRoV\n",
      "\n",
      "<selenium.webdriver.firefox.webelement.FirefoxWebElement (session=\"4fd9bca7-debd-4849-9847-fdc57595bdd7\", element=\"2c2efe0b-45aa-467c-894f-fdc4401360cd\")>\n",
      "no such element\n"
     ]
    }
   ],
   "source": [
    "from modules import selenium_krak\n",
    "res = selenium_krak.get_info('Møller')"
   ]
  },
  {
   "cell_type": "code",
   "execution_count": 2,
   "metadata": {},
   "outputs": [],
   "source": [
    "for person in res:\n",
    "    print(person)"
   ]
  },
  {
   "cell_type": "code",
   "execution_count": 3,
   "metadata": {},
   "outputs": [
    {
     "name": "stdout",
     "output_type": "stream",
     "text": [
      "3.141.0\n"
     ]
    }
   ],
   "source": [
    "import selenium\n",
    "print(selenium.__version__)"
   ]
  },
  {
   "cell_type": "code",
   "execution_count": 4,
   "metadata": {},
   "outputs": [
    {
     "data": {
      "text/plain": [
       "'There were 0 Møller on the first page'"
      ]
     },
     "execution_count": 4,
     "metadata": {},
     "output_type": "execute_result"
    }
   ],
   "source": [
    "'There were {} Møller on the first page'.format(len(res)) "
   ]
  },
  {
   "cell_type": "markdown",
   "metadata": {
    "slideshow": {
     "slide_type": "slide"
    }
   },
   "source": [
    "## Controlling the Browser with the `selenium` Module\n",
    "\n",
    "The `selenium` module lets Python directly control the browser by programatically clicking links and filling in login information, almost as though there is a human user interacting with the page. Selenium allows you to interact with web pages in a much more advanced way than Requests and Beautiful Soup; but because it launches a web browser, it is a bit slower and hard to run in the background if, say, you just need to download some files from the Web.\n"
   ]
  },
  {
   "cell_type": "markdown",
   "metadata": {
    "slideshow": {
     "slide_type": "slide"
    }
   },
   "source": [
    "### Starting a Selenium-Controlled Browser\n",
    "\n",
    "```python\n",
    "from selenium import webdriver\n",
    "\n",
    "\n",
    "browser = webdriver.Firefox()\n",
    "browser.get('http://www.krak.dk')\n",
    "```"
   ]
  },
  {
   "cell_type": "markdown",
   "metadata": {
    "slideshow": {
     "slide_type": "slide"
    }
   },
   "source": [
    "### Finding Elements on the Page\n",
    "\n",
    "WebDriver objects have quite a few methods for finding elements on a page. They are divided into the `find_element_*` and `find_elements_*` methods. The `find_element_*` methods return a single `WebElement` object, representing the first element on the page that matches your query. The `find_elements_*` methods return a list of `WebElement_*` objects for every matching element on the page. For example, in the following are some common methods given, which find multiple elements on the page:\n",
    "\n",
    "\n",
    "  * `browser.find_elements_by_class_name(name)` ... finds elements that use the CSS class\n",
    "name\n",
    "  * `browser.find_elements_by_css_selector(selector)` ... finds elements that match the CSS\n",
    "selector\n",
    "  * `browser.find_elements_by_id(id)` ... finds elements with a matching id attribute value\n",
    "  * `browser.find_elements_by_link_text(text)` ... finds `<a>` elements that completely\n",
    "match the text provided\n",
    "  * `browser.find_elements_by_partial_link_text(text)` ... finds `<a>` elements that contain the text\n",
    "provided\n",
    "  * `browser.find_elements_by_name(name)` ... finds elements with a matching name attribute value\n",
    "  * `browser.find_elements_by_tag_name(tagname)` ... finds elements with a matching tag name (case insensitive; an `<a>` element is matched by 'a' and 'A')\n",
    "  \n",
    "For more information on finding elements on a page, see http://selenium-python.readthedocs.io/locating-elements.html#\n",
    "  \n"
   ]
  },
  {
   "cell_type": "markdown",
   "metadata": {
    "slideshow": {
     "slide_type": "slide"
    }
   },
   "source": [
    "### Clicking the Page\n",
    "\n",
    "`WebElement` objects returned from the `find_element_*` and `find_elements_*` methods have a `click()` method that simulates a mouse click on that element. This method can be used to follow a link, make a selection on a radio button, click a Submit button, or trigger whatever else might happen when the element is clicked by the mouse.\n",
    "\n",
    "```python\n",
    "    base_url = 'http://www.krak.dk'\n",
    "    browser = webdriver.Firefox() \n",
    "    browser.get(base_url)\n",
    "    browser.implicitly_wait(3)\n",
    "\n",
    "    link_to_persons = browser.find_elements_by_link_text('Personer')\n",
    "    link_to_persons[0].click()\n",
    "```\n"
   ]
  },
  {
   "cell_type": "markdown",
   "metadata": {
    "slideshow": {
     "slide_type": "slide"
    }
   },
   "source": [
    "### Filling Out and Submitting Forms\n",
    "Sending keystrokes to text fields on a web page is a matter of finding the `<input>` or `<textarea>` element for that text field and then calling the `send_keys()` method. \n",
    "\n",
    "\n",
    "```python\n",
    "    base_url = 'http://www.krak.dk'\n",
    "    browser = webdriver.Firefox() # or use driver = webdriver.PhantomJS() which will do the same without the overhead of a GUI. http://phantomjs.org/download.html\n",
    "    browser.implicitly_wait(3)\n",
    "\n",
    "    search_field = browser.find_element_by_name('searchQuery')\n",
    "    search_field.send_keys('Møller')\n",
    "    search_field.submit()\n",
    "```"
   ]
  },
  {
   "cell_type": "markdown",
   "metadata": {
    "slideshow": {
     "slide_type": "slide"
    }
   },
   "source": [
    "## Class exercise\n",
    "Find a web site to interact with and fill out a form to get some information back.  \n",
    "Examples could be https://www.jobindex.dk/,    \n",
    "https://google.com or   \n",
    "https://www.ikea.com/dk/da/"
   ]
  },
  {
   "cell_type": "code",
   "execution_count": null,
   "metadata": {},
   "outputs": [],
   "source": []
  }
 ],
 "metadata": {
  "celltoolbar": "Slideshow",
  "kernelspec": {
   "display_name": "Python 3",
   "language": "python",
   "name": "python3"
  },
  "language_info": {
   "codemirror_mode": {
    "name": "ipython",
    "version": 3
   },
   "file_extension": ".py",
   "mimetype": "text/x-python",
   "name": "python",
   "nbconvert_exporter": "python",
   "pygments_lexer": "ipython3",
   "version": "3.7.6"
  },
  "varInspector": {
   "cols": {
    "lenName": 16,
    "lenType": 16,
    "lenVar": 40
   },
   "kernels_config": {
    "python": {
     "delete_cmd_postfix": "",
     "delete_cmd_prefix": "del ",
     "library": "var_list.py",
     "varRefreshCmd": "print(var_dic_list())"
    },
    "r": {
     "delete_cmd_postfix": ") ",
     "delete_cmd_prefix": "rm(",
     "library": "var_list.r",
     "varRefreshCmd": "cat(var_dic_list()) "
    }
   },
   "types_to_exclude": [
    "module",
    "function",
    "builtin_function_or_method",
    "instance",
    "_Feature"
   ],
   "window_display": false
  }
 },
 "nbformat": 4,
 "nbformat_minor": 2
}
